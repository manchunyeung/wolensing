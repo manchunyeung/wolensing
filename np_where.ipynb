{
 "cells": [
  {
   "cell_type": "code",
   "execution_count": 1,
   "id": "d84066ab-0f26-4e84-a363-c857d8f52cc3",
   "metadata": {},
   "outputs": [],
   "source": [
    "import jax.numpy as jnp\n",
    "import numpy as np"
   ]
  },
  {
   "cell_type": "code",
   "execution_count": 7,
   "id": "170aac81-127b-40cb-aaf6-741c49fb4229",
   "metadata": {},
   "outputs": [],
   "source": [
    "a = np.array([[0.1,0.4,0.5,2,3,5], [0.6,0.8,3,4,5,6]])"
   ]
  },
  {
   "cell_type": "code",
   "execution_count": 8,
   "id": "6d2ec3f3-b8fb-4f3e-820b-05f0a2c0f189",
   "metadata": {},
   "outputs": [],
   "source": [
    "c = np.linalg.norm(a, axis=0)"
   ]
  },
  {
   "cell_type": "code",
   "execution_count": 9,
   "id": "8ebbe875-a478-4c75-840a-cf6993de709f",
   "metadata": {},
   "outputs": [
    {
     "data": {
      "text/plain": [
       "array([0.60827625, 0.89442719, 3.04138127, 4.47213595, 5.83095189,\n",
       "       7.81024968])"
      ]
     },
     "execution_count": 9,
     "metadata": {},
     "output_type": "execute_result"
    }
   ],
   "source": [
    "c"
   ]
  },
  {
   "cell_type": "code",
   "execution_count": 11,
   "id": "b3cdbdea-2ec5-432d-8e3b-7511b6f0f7bc",
   "metadata": {},
   "outputs": [],
   "source": [
    "d = np.ones(a.shape)"
   ]
  },
  {
   "cell_type": "code",
   "execution_count": 12,
   "id": "46df8d94-c8bb-49ca-a693-bfa00d4081b5",
   "metadata": {},
   "outputs": [],
   "source": [
    "x_low = np.where(c<1, c, d*0.5)"
   ]
  },
  {
   "cell_type": "code",
   "execution_count": 13,
   "id": "acd9757e-24c8-4b18-84b5-46ffd5e404ff",
   "metadata": {},
   "outputs": [
    {
     "data": {
      "text/plain": [
       "array([[0.60827625, 0.89442719, 0.5       , 0.5       , 0.5       ,\n",
       "        0.5       ],\n",
       "       [0.60827625, 0.89442719, 0.5       , 0.5       , 0.5       ,\n",
       "        0.5       ]])"
      ]
     },
     "execution_count": 13,
     "metadata": {},
     "output_type": "execute_result"
    }
   ],
   "source": [
    "x_low"
   ]
  },
  {
   "cell_type": "code",
   "execution_count": 15,
   "id": "028748ed-eeef-4478-86be-e3fa763de364",
   "metadata": {},
   "outputs": [],
   "source": [
    "x_high = np.where(c<1, 2*d, a)"
   ]
  },
  {
   "cell_type": "code",
   "execution_count": 16,
   "id": "77124010-bb8c-4487-9ff5-3a5407e66c7e",
   "metadata": {},
   "outputs": [
    {
     "data": {
      "text/plain": [
       "array([[2. , 2. , 0.5, 2. , 3. , 5. ],\n",
       "       [2. , 2. , 3. , 4. , 5. , 6. ]])"
      ]
     },
     "execution_count": 16,
     "metadata": {},
     "output_type": "execute_result"
    }
   ],
   "source": [
    "x_high"
   ]
  },
  {
   "cell_type": "code",
   "execution_count": 17,
   "id": "7c03fcbe-a70b-4721-9d89-79c10839aed5",
   "metadata": {},
   "outputs": [],
   "source": [
    "x_low_norm = np.linalg.norm(x_low, axis=0)"
   ]
  },
  {
   "cell_type": "code",
   "execution_count": 18,
   "id": "b3d700d4-d21f-4850-8629-af4d8e9cbd41",
   "metadata": {},
   "outputs": [],
   "source": [
    "x_high_norm = np.linalg.norm(x_high, axis=0)"
   ]
  },
  {
   "cell_type": "code",
   "execution_count": 19,
   "id": "d7793312-044f-4654-80f0-4225589d01f3",
   "metadata": {},
   "outputs": [],
   "source": [
    "Psi = np.where(c<1, x_low_norm, x_high_norm)"
   ]
  },
  {
   "cell_type": "code",
   "execution_count": 20,
   "id": "9bb8c7b7-9910-4bf7-9c4b-711100508667",
   "metadata": {},
   "outputs": [
    {
     "data": {
      "text/plain": [
       "array([0.86023253, 1.26491106, 3.04138127, 4.47213595, 5.83095189,\n",
       "       7.81024968])"
      ]
     },
     "execution_count": 20,
     "metadata": {},
     "output_type": "execute_result"
    }
   ],
   "source": [
    "Psi"
   ]
  },
  {
   "cell_type": "code",
   "execution_count": 21,
   "id": "897efe02-4cab-4674-9783-76baa5d33e4b",
   "metadata": {},
   "outputs": [
    {
     "data": {
      "text/plain": [
       "array([0.86023253, 1.26491106, 0.70710678, 0.70710678, 0.70710678,\n",
       "       0.70710678])"
      ]
     },
     "execution_count": 21,
     "metadata": {},
     "output_type": "execute_result"
    }
   ],
   "source": [
    "x_low_norm"
   ]
  },
  {
   "cell_type": "code",
   "execution_count": 22,
   "id": "08ff8501-79cc-4ce9-9fd8-11adb26e78a1",
   "metadata": {},
   "outputs": [
    {
     "data": {
      "text/plain": [
       "array([2.82842712, 2.82842712, 3.04138127, 4.47213595, 5.83095189,\n",
       "       7.81024968])"
      ]
     },
     "execution_count": 22,
     "metadata": {},
     "output_type": "execute_result"
    }
   ],
   "source": [
    "x_high_norm"
   ]
  },
  {
   "cell_type": "code",
   "execution_count": null,
   "id": "2456b617-ccfa-4e62-8478-b6b2ba0799c8",
   "metadata": {},
   "outputs": [],
   "source": []
  }
 ],
 "metadata": {
  "kernelspec": {
   "display_name": "wolensing",
   "language": "python",
   "name": "wolensing"
  },
  "language_info": {
   "codemirror_mode": {
    "name": "ipython",
    "version": 3
   },
   "file_extension": ".py",
   "mimetype": "text/x-python",
   "name": "python",
   "nbconvert_exporter": "python",
   "pygments_lexer": "ipython3",
   "version": "3.6.8"
  }
 },
 "nbformat": 4,
 "nbformat_minor": 5
}
