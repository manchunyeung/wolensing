{
 "cells": [
  {
   "cell_type": "code",
   "execution_count": 1,
   "metadata": {},
   "outputs": [],
   "source": [
    "import sys\n",
    "import os\n",
    "path = os.getcwd()\n",
    "dir = os.path.abspath(os.path.join(path, os.pardir))\n",
    "sys.path.append(dir)"
   ]
  },
  {
   "cell_type": "code",
   "execution_count": 2,
   "metadata": {},
   "outputs": [],
   "source": [
    "import jax\n",
    "jax.config.update(\"jax_enable_x64\", True)"
   ]
  },
  {
   "cell_type": "code",
   "execution_count": 3,
   "metadata": {},
   "outputs": [],
   "source": [
    "import numpy as np"
   ]
  },
  {
   "cell_type": "code",
   "execution_count": 4,
   "metadata": {},
   "outputs": [],
   "source": [
    "from lenstronomy.LensModel.lens_model import LensModel\n",
    "import lensinggw.constants.constants as const"
   ]
  },
  {
   "cell_type": "code",
   "execution_count": 5,
   "metadata": {},
   "outputs": [],
   "source": [
    "from plot.plot import plot_contour\n",
    "import amplification_factor.amplification_factor as af"
   ]
  },
  {
   "cell_type": "code",
   "execution_count": 6,
   "metadata": {},
   "outputs": [],
   "source": [
    "G = const.G  # gravitational constant [m^3 kg^-1 s^-2]\n",
    "c = const.c  # speed of light [m/s]\n",
    "M_sun = const.M_sun  # Solar mass [Kg]"
   ]
  },
  {
   "cell_type": "markdown",
   "metadata": {},
   "source": [
    "coordinates in scaled units [x (radians) /thetaE_tot]"
   ]
  },
  {
   "cell_type": "code",
   "execution_count": 7,
   "metadata": {},
   "outputs": [],
   "source": [
    "y0, y1 = 0, 0 # source position\n",
    "l0, l1 = 0., 0 # lens position\n",
    "\n",
    "zS = 1.0 # source redshift\n",
    "zL = 0.5 # lens redshift"
   ]
  },
  {
   "cell_type": "code",
   "execution_count": 8,
   "metadata": {},
   "outputs": [],
   "source": [
    "mL = [1, 1.2, 0.8, 3]\n",
    "mtot = sum(mL)\n",
    "\n",
    "# convert to radians\n",
    "from lensinggw.utils.utils import param_processing\n",
    "thetaE1 = param_processing(zL, zS, mL[0])\n",
    "thetaE2 = param_processing(zL, zS, mL[1])\n",
    "thetaE3 = param_processing(zL, zS, mL[2])\n",
    "thetaE4 = param_processing(zL, zS, mL[3])\n",
    "\n",
    "thetaEl = [thetaE1, thetaE2]\n",
    "\n",
    "thetaE = param_processing(zL, zS, mtot)"
   ]
  },
  {
   "cell_type": "code",
   "execution_count": 9,
   "metadata": {},
   "outputs": [],
   "source": [
    "beta0, beta1 = 0, 0\n",
    "eta10, eta11 = 0.2 * thetaE1, 0 * thetaE1\n",
    "eta20, eta21 = -0.3 * thetaE2, 0 * thetaE2\n",
    "# eta30, eta31 = 0 * thetaE3, -0.1 * thetaE3\n",
    "# eta40, eta41 = 0 * thetaE4, 0.1 * thetaE4\n"
   ]
  },
  {
   "cell_type": "code",
   "execution_count": 10,
   "metadata": {},
   "outputs": [],
   "source": [
    "lens_model_list = ['POINT_MASS', 'POINT_MASS']\n",
    "kwargs_pm_1 = {'center_x': eta10, 'center_y': eta11, 'theta_E': thetaE1}\n",
    "kwargs_pm_2 = {'center_x': eta20, 'center_y': eta21, 'theta_E': thetaE2}\n",
    "# kwargs_pm_3 = {'center_x': eta30, 'center_y': eta31, 'theta_E': thetaE3}\n",
    "# kwargs_pm_4 = {'center_x': eta40, 'center_y': eta41, 'theta_E': thetaE4}\n",
    "\n",
    "kwargs_lens_list = [kwargs_pm_1, kwargs_pm_2]"
   ]
  },
  {
   "cell_type": "code",
   "execution_count": 11,
   "metadata": {},
   "outputs": [
    {
     "name": "stdout",
     "output_type": "stream",
     "text": [
      "T0 = 9.857298509180655\n",
      "Tscale = 0.0001773176769195687\n"
     ]
    }
   ],
   "source": [
    "lens_model_complete = LensModel(lens_model_list=lens_model_list)\n",
    "T = lens_model_complete.fermat_potential\n",
    "T0 = thetaE ** (-2) * T(beta0, beta1, kwargs_lens_list, beta0, beta1)#[0]\n",
    "Tscale = 4 * (1 + zL) * mtot * M_sun * G / c ** 3\n",
    "print('T0 = {}'.format(T0))\n",
    "print('Tscale = {}'.format(Tscale))"
   ]
  },
  {
   "cell_type": "code",
   "execution_count": 12,
   "metadata": {},
   "outputs": [],
   "source": [
    "kwargs_macro = {'source_pos_x': beta0,\n",
    "                'source_pos_y': beta1,\n",
    "                'theta_E': thetaE\n",
    "               }"
   ]
  },
  {
   "cell_type": "code",
   "execution_count": 20,
   "metadata": {},
   "outputs": [],
   "source": [
    "# Define the characteristic WindowSize\n",
    "# mL2 = 10\n",
    "# thetaE2 = param_processing(zL, zS, mL2)\n",
    "\n",
    "kwargs_integrator = {'PixelNum': int(50000),          # Number of pixels on each side of the window\n",
    "                     'PixelBlockMax': 2000,           # Dividing PixelNum into PixelBlock\n",
    "                     'WindowSize': 200*max(thetaEl), \n",
    "                     'WindowCenterX': eta10, \n",
    "                     'WindowCenterY': eta11,\n",
    "                     'T0': T0,                        # Time delay of the reference point (WindowCenter)\n",
    "                     'TimeStep': 1e-5/Tscale,         # integration step in time domain\n",
    "                     'TimeMax': T0 + .5/Tscale,        # Upper bound of time integration\n",
    "                     'TimeMin': T0 - 10/Tscale,       # Lower bound of time integration\n",
    "                     'TimeLength': 10/Tscale,          \n",
    "                     'TExtend': 10/Tscale,            # Extend the time domain curve to desired time. In this example, it is extended to T0+10 seconds \n",
    "                     'Tscale': Tscale}                "
   ]
  },
  {
   "cell_type": "code",
   "execution_count": 21,
   "metadata": {},
   "outputs": [
    {
     "name": "stdout",
     "output_type": "stream",
     "text": [
      "start\n"
     ]
    },
    {
     "name": "stderr",
     "output_type": "stream",
     "text": [
      "Integrating...: 100%|██████████| 676/676 [07:10<00:00,  1.57it/s]\n"
     ]
    },
    {
     "name": "stdout",
     "output_type": "stream",
     "text": [
      "999990 14516 trim\n"
     ]
    },
    {
     "data": {
      "image/png": "[encoded data removed]",
      "text/plain": [
       "<Figure size 432x288 with 1 Axes>"
      ]
     },
     "metadata": {
      "needs_background": "light"
     },
     "output_type": "display_data"
    },
    {
     "data": {
      "image/png": "[encoded data removed]",
      "text/plain": [
       "<Figure size 432x288 with 1 Axes>"
      ]
     },
     "metadata": {
      "needs_background": "light"
     },
     "output_type": "display_data"
    },
    {
     "data": {
      "image/png": "[encoded data removed]",
      "text/plain": [
       "<Figure size 432x288 with 1 Axes>"
      ]
     },
     "metadata": {
      "needs_background": "light"
     },
     "output_type": "display_data"
    }
   ],
   "source": [
    "amplification = af.amplification_factor_fd(lens_model_list=lens_model_list, kwargs_lens=kwargs_lens_list, kwargs_macro=kwargs_macro, **kwargs_integrator)\n",
    "ws, Fws = amplification.integrator(embedded=False, plot=True)\n",
    "amplification.plot()"
   ]
  },
  {
   "cell_type": "code",
   "execution_count": 22,
   "metadata": {},
   "outputs": [
    {
     "name": "stderr",
     "output_type": "stream",
     "text": [
      "/tmp/ipykernel_827/3287567560.py:46: RuntimeWarning: invalid value encountered in multiply\n",
      "  return 0.5*wj(f, xi_0, zL, DS, DL, DLS)*(np.pi-1j*(2*np.log(Y)-sc.expi(1j*wj(f, xi_0, zL, DS, DL, DLS)*Y**2 /2)))\n"
     ]
    },
    {
     "data": {
      "image/png": "[encoded data removed]",
      "text/plain": [
       "<Figure size 640x480 with 1 Axes>"
      ]
     },
     "metadata": {},
     "output_type": "display_data"
    }
   ],
   "source": [
    "import scipy.special as sc\n",
    "from matplotlib import pyplot as plt\n",
    "from astropy.cosmology import Planck18\n",
    "\n",
    "from pycbc.waveform import td_approximants, fd_approximants\n",
    "from pycbc import types, fft, waveform\n",
    "\n",
    "#setting up geometrized units\n",
    "meter = 1\n",
    "Mpc = 3.086e22*meter\n",
    "solarmass = 1480*meter\n",
    "Hz = 1/(3 * 10**8)\n",
    "\n",
    "zL = 0.5\n",
    "zS = 1\n",
    "\n",
    "#some angular diameter distances\n",
    "DS = Planck18.angular_diameter_distance(zS).value*Mpc\n",
    "DL = Planck18.angular_diameter_distance(zL).value*Mpc\n",
    "DLS = Planck18.angular_diameter_distance_z1z2(zL, zS).value*Mpc\n",
    "\n",
    "\n",
    "\n",
    "#eta: source position\n",
    "eta=[0,0]\n",
    "\n",
    "#N: number of point masses in the lens system\n",
    "N = 1\n",
    "\n",
    "#mass of each point mass\n",
    "mj = np.array([100*solarmass])\n",
    "\n",
    "total_mass=np.sum(mj)\n",
    "\n",
    "#einstein radius of each point mass\n",
    "xi_0j = 2*np.sqrt(mj*DL*DLS/DS)\n",
    "\n",
    "def omega(f):\n",
    "    return 2*np.pi*f\n",
    "\n",
    "#dimensionless frequency function for each point mass\n",
    "def wj(f, xi_0, zL, DS, DL, DLS):\n",
    "    return (1+zL)*omega(f)*xi_0**2 *DS/(DL*DLS)\n",
    "\n",
    "def first_order_F(f, xi_0, zL, DS, DL, DLS, Y):\n",
    "    return 0.5*wj(f, xi_0, zL, DS, DL, DLS)*(np.pi-1j*(2*np.log(Y)-sc.expi(1j*wj(f, xi_0, zL, DS, DL, DLS)*Y**2 /2)))\n",
    "\n",
    "def F(f, xi_0j, zL, DS, DL, DLS, Yj):\n",
    "    #somehow using np.sum would not work!!!\n",
    "    return 1 + sum([first_order_F(f, xi_0j[j], zL, DS, DL, DLS, Yj[j]) for j in range(N)])\n",
    "\n",
    "#to edit the position of the pml, please modify jth_lens_pos_setup(n)=[[x1,y1],[x2,y2],...]\n",
    "#Setup1\n",
    "jth_lens_pos_setup1=[[0.5*xi_0j[0],0]]\n",
    "Yjsetup1 = [np.sqrt((jth_lens_pos_setup1[j][0]-eta[0]*DL/DS)**2+(jth_lens_pos_setup1[j][1]-eta[1]*DL/DS)**2)/xi_0j[j] for j in range(N)]\n",
    "\n",
    "\n",
    "#Setup2\n",
    "jth_lens_pos_setup2=[[0.5*xi_0j[0],0]]\n",
    "Yjsetup2 = [np.sqrt((jth_lens_pos_setup2[j][0]-eta[0]*DL/DS)**2+(jth_lens_pos_setup2[j][1]-eta[1]*DL/DS)**2)/xi_0j[j] for j in range(N)]\n",
    "\n",
    "\n",
    "#Setup3\n",
    "jth_lens_pos_setup3=[[0.5*xi_0j[0],0]]\n",
    "Yjsetup3 = [np.sqrt((jth_lens_pos_setup3[j][0]-eta[0]*DL/DS)**2+(jth_lens_pos_setup3[j][1]-eta[1]*DL/DS)**2)/xi_0j[j] for j in range(N)]\n",
    "\n",
    "x = ws/(2*np.pi)\n",
    "plt.semilogx(x, np.absolute(F(x*Hz, xi_0j, zL, DS, DL, DLS, Yjsetup1)))\n",
    "# plt.semilogx(x, np.absolute(F(x*Hz, xi_0j, zL, DS, DL, DLS, Yjsetup2)))\n",
    "# plt.semilogx(x, np.absolute(F(x*Hz, xi_0j, zL, DS, DL, DLS, Yjsetup3)))\n",
    "plt.semilogx(x, np.abs(Fws))\n",
    "plt.show()"
   ]
  },
  {
   "cell_type": "code",
   "execution_count": null,
   "metadata": {},
   "outputs": [],
   "source": []
  }
 ],
 "metadata": {
  "kernelspec": {
   "display_name": "wolensing",
   "language": "python",
   "name": "wolensing"
  },
  "language_info": {
   "codemirror_mode": {
    "name": "ipython",
    "version": 3
   },
   "file_extension": ".py",
   "mimetype": "text/x-python",
   "name": "python",
   "nbconvert_exporter": "python",
   "pygments_lexer": "ipython3",
   "version": "3.6.8"
  }
 },
 "nbformat": 4,
 "nbformat_minor": 4
}
