{
 "cells": [
  {
   "cell_type": "code",
   "execution_count": null,
   "id": "9878aa9a",
   "metadata": {},
   "outputs": [],
   "source": [
    "mL1 = 1 * 1e10 # Galaxy lens\n",
    "mL2 = 50 # Microlens\n",
    "mtot = mL1 + mL2"
   ]
  },
  {
   "cell_type": "code",
   "execution_count": null,
   "id": "bd34202a",
   "metadata": {},
   "outputs": [],
   "source": [
    "from lensinggw.utils.utils import param_processing"
   ]
  },
  {
   "cell_type": "code",
   "execution_count": null,
   "id": "a88395ac",
   "metadata": {},
   "outputs": [],
   "source": [
    "# Define the redshifts of lens and source\n",
    "zL = 0.5\n",
    "zS = 1.0"
   ]
  },
  {
   "cell_type": "code",
   "execution_count": null,
   "id": "68a3dfff",
   "metadata": {},
   "outputs": [],
   "source": [
    "thetaE1 = param_processing(zL, zS, mL1)\n",
    "thetaE2 = param_processing(zL, zS, mL2)\n",
    "thetaE = param_processing(zL, zS, mtot)"
   ]
  },
  {
   "cell_type": "code",
   "execution_count": null,
   "id": "1f6c1eb6",
   "metadata": {},
   "outputs": [],
   "source": [
    "# Binary positions on the source plane\n",
    "y0, y1 = 0.1, 0 # In Einstein raidus\n",
    "beta0, beta1 = y0 * thetaE, y1 * thetaE"
   ]
  },
  {
   "cell_type": "code",
   "execution_count": null,
   "id": "59d3469d",
   "metadata": {},
   "outputs": [],
   "source": [
    "# Lens positions \n",
    "eta10, eta11 = 0, 0"
   ]
  },
  {
   "cell_type": "code",
   "execution_count": null,
   "id": "e7ff0362",
   "metadata": {},
   "outputs": [],
   "source": [
    "# Compute the image positions\n",
    "lens_model_list = ['SIS']\n",
    "kwargs_sis_1 = {'center_x': eta10, 'center_y': eta11, 'theta_E': thetaE1}\n",
    "kwargs_lens_list = [kwargs_sis_1]\n",
    "\n",
    "from lensinggw.solver.images import microimages\n",
    "\n",
    "solver_kwargs = {'SearchWindowMacro': 10 * thetaE1,\n",
    "                 'SearchWindow': 5 * thetaE2,\n",
    "                 'OverlapDistMacro': 1e-17,\n",
    "                 'OnlyMacro': True,\n",
    "                'Verbose' : True}\n",
    "\n",
    "MacroImg_ra, MacroImg_dec, pixel_width = microimages(source_pos_x=beta0,\n",
    "                                                     source_pos_y=beta1,\n",
    "                                                     lens_model_list=lens_model_list,\n",
    "                                                     kwargs_lens=kwargs_lens_list,\n",
    "                                                     **solver_kwargs)"
   ]
  },
  {
   "cell_type": "code",
   "execution_count": null,
   "id": "28516185",
   "metadata": {
    "scrolled": false
   },
   "outputs": [],
   "source": [
    "# Microlensing around type 2 image\n",
    "\n",
    "import numpy as np\n",
    "\n",
    "ym = 1 # Microlens position with respect to the image \n",
    "imindex = 0 # Second element of the output array is type 1\n",
    "angle = 0 # The angular displacement\n",
    "\n",
    "eta20, eta21 = MacroImg_ra[imindex] + np.cos(angle)*ym*thetaE2, MacroImg_dec[imindex] + np.sin(angle)*ym*thetaE2 # Placing the microlens\n",
    "\n",
    "lens_model_list = ['SIS', 'POINT_MASS']\n",
    "kwargs_sis_1 = {'center_x': eta10, 'center_y': eta11, 'theta_E': thetaE1}\n",
    "kwargs_point_mass_2 = {'center_x': eta20, 'center_y': eta21, 'theta_E': thetaE2}\n",
    "kwargs_lens_list = [kwargs_sis_1, kwargs_point_mass_2]\n",
    "\n",
    "solver_kwargs = {'SearchWindowMacro': 10 * thetaE1,\n",
    "                 'SearchWindow': 10 * thetaE2,\n",
    "                 'Pixels': 1e3,\n",
    "                 'OverlapDist': 1e-18,\n",
    "                 # 'PrecisionLimit': 1e-21,\n",
    "                 'OverlapDistMacro': 1e-17}\n",
    "\n",
    "\n",
    "Img_ra, Img_dec, MacroImg_ra, MacroImg_dec, pixel_width = microimages(source_pos_x=beta0,\n",
    "                                                                      source_pos_y=beta1,\n",
    "                                                                      lens_model_list=lens_model_list,\n",
    "                                                                      kwargs_lens=kwargs_lens_list,\n",
    "                                                                      **solver_kwargs)"
   ]
  },
  {
   "cell_type": "markdown",
   "id": "e562c014",
   "metadata": {},
   "source": [
    "# Microlensing of type 2 Images"
   ]
  },
  {
   "cell_type": "code",
   "execution_count": null,
   "id": "fb4339cd",
   "metadata": {
    "scrolled": false
   },
   "outputs": [],
   "source": [
    "angle = 90\n",
    "eta20, eta21 = MacroImg_ra[imindex] + np.cos(angle)*ym*thetaE2, MacroImg_dec[imindex] + np.sin(angle)*ym*thetaE2 # Placing the microlens\n",
    "\n",
    "lens_model_list = ['SIS', 'POINT_MASS']\n",
    "kwargs_sis_1 = {'center_x': eta10, 'center_y': eta11, 'theta_E': thetaE1}\n",
    "kwargs_point_mass_2 = {'center_x': eta20, 'center_y': eta21, 'theta_E': thetaE2}\n",
    "kwargs_lens_list = [kwargs_sis_1, kwargs_point_mass_2]\n",
    "\n",
    "solver_kwargs = {'SearchWindowMacro': 10 * thetaE1,\n",
    "                 'SearchWindow': 10 * thetaE2,\n",
    "                 'Pixels': 1e3,\n",
    "                 'OverlapDist': 1e-18,\n",
    "                 # 'PrecisionLimit': 1e-21,\n",
    "                 'OverlapDistMacro': 1e-17,\n",
    "                 'Optimization': True,\n",
    "                 'Verbose': False}\n",
    "solver_kwargs.update({'Improvement' : 0.1})\n",
    "solver_kwargs.update({'MinDist' : 10**(-6)})\n",
    "\n",
    "\n",
    "\n",
    "\n",
    "Img_ra, Img_dec, MacroImg_ra, MacroImg_dec, pixel_width = microimages(source_pos_x=beta0,\n",
    "                                                                      source_pos_y=beta1,\n",
    "                                                                      lens_model_list=lens_model_list,\n",
    "                                                                      kwargs_lens=kwargs_lens_list,**solver_kwargs)\n",
    "# time delays, magnifications, Morse indices and amplification factor\n",
    "from lensinggw.utils.utils import TimeDelay, magnifications, getMinMaxSaddle\n",
    "from lensinggw.amplification_factor.amplification_factor import geometricalOpticsMagnification # Computes the geometrical optics amplification :math:`F(f)` over a frequency band, given a set of images and a lens model                                                                     **solver_kwargs)\n",
    "tds = TimeDelay(Img_ra, Img_dec,\n",
    "                beta0, beta1,\n",
    "                zL, zS,\n",
    "                lens_model_list, kwargs_lens_list)   \n",
    "\n",
    "mus = magnifications(Img_ra, Img_dec, lens_model_list, kwargs_lens_list)\n",
    "ns  = getMinMaxSaddle(Img_ra, Img_dec, lens_model_list, kwargs_lens_list) \n",
    "                \n",
    "print('Time delays (seconds): ', tds)\n",
    "print('magnifications: ',  mus)\n",
    "print('Morse indices: ',ns)\n",
    "\n",
    "\n",
    "source_pos_x=beta0\n",
    "source_pos_y=beta1\n",
    "ImgRA =Img_ra\n",
    "ImgDEC=Img_dec\n",
    "\n",
    "from lensinggw.postprocess.postprocess import plot_images\n",
    "\n",
    "plot_images(None,None,source_pos_x, source_pos_y, lens_model_list, kwargs_lens_list, ImgRA=Img_ra, ImgDEC=Img_dec, Mu=None, Td=None, MacroImgRA=None, MacroImgDEC=None, MacroMu=None, MacroTd=None, compute_window_x=4.4e-6, compute_window_y=4.4e-6, center_x=0, center_y=0, xmin=- 5e-10, ymin=- 4e-10, Npixels=1000, how_left=1.85e-10, how_right=1.5e-11, how_up=2e-12, how_down=7e-11, mag_map=False, diff=None, **solver_kwargs)\n",
    "\n",
    "#plot_images(None,None,source_pos_x, source_pos_y, lens_model_list, kwargs_lens_list, ImgRA, ImgDEC, Mu=mus, Td=tds, MacroImgRA=None, MacroImgDEC=None, MacroMu=None, MacroTd=None, compute_window_x=0.002, compute_window_y=0.02, center_x=eta10, center_y=eta20, xmin=- 3e-1, ymin=- 4e-1, Npixels=1000, how_left=1.85e-10, how_right=1.5e-11, how_up=2e-12, how_down=7e-11, mag_map=False, diff=None, **solver_kwargs)\n",
    "\n"
   ]
  },
  {
   "cell_type": "code",
   "execution_count": null,
   "id": "719d974b",
   "metadata": {},
   "outputs": [],
   "source": [
    "# Microlensing of type1  Image"
   ]
  },
  {
   "cell_type": "code",
   "execution_count": null,
   "id": "577e6ceb",
   "metadata": {
    "scrolled": false
   },
   "outputs": [],
   "source": [
    "imindex=1\n",
    "angle = 90\n",
    "eta20, eta21 = MacroImg_ra[imindex] + np.cos(angle)*ym*thetaE2, MacroImg_dec[imindex] + np.sin(angle)*ym*thetaE2 # Placing the microlens\n",
    "\n",
    "lens_model_list = ['SIS', 'POINT_MASS']\n",
    "kwargs_sis_1 = {'center_x': eta10, 'center_y': eta11, 'theta_E': thetaE1}\n",
    "kwargs_point_mass_2 = {'center_x': eta20, 'center_y': eta21, 'theta_E': thetaE2}\n",
    "kwargs_lens_list = [kwargs_sis_1, kwargs_point_mass_2]\n",
    "\n",
    "solver_kwargs = {'SearchWindowMacro': 10 * thetaE1,\n",
    "                 'SearchWindow': 10 * thetaE2,\n",
    "                 'Pixels': 1e3,\n",
    "                 'OverlapDist': 1e-18,\n",
    "                 # 'PrecisionLimit': 1e-21,\n",
    "                 'OverlapDistMacro': 1e-17,\n",
    "                 'Optimization': True,\n",
    "                 'Verbose': False}\n",
    "solver_kwargs.update({'Improvement' : 0.1})\n",
    "solver_kwargs.update({'MinDist' : 10**(-6)})\n",
    "\n",
    "\n",
    "\n",
    "\n",
    "Img_ra, Img_dec, MacroImg_ra, MacroImg_dec, pixel_width = microimages(source_pos_x=beta0,\n",
    "                                                                      source_pos_y=beta1,\n",
    "                                                                      lens_model_list=lens_model_list,\n",
    "                                                                      kwargs_lens=kwargs_lens_list,**solver_kwargs)\n",
    "# time delays, magnifications, Morse indices and amplification factor\n",
    "from lensinggw.utils.utils import TimeDelay, magnifications, getMinMaxSaddle\n",
    "from lensinggw.amplification_factor.amplification_factor import geometricalOpticsMagnification # Computes the geometrical optics amplification :math:`F(f)` over a frequency band, given a set of images and a lens model                                                                     **solver_kwargs)\n",
    "tds = TimeDelay(Img_ra, Img_dec,\n",
    "                beta0, beta1,\n",
    "                zL, zS,\n",
    "                lens_model_list, kwargs_lens_list)   \n",
    "\n",
    "mus = magnifications(Img_ra, Img_dec, lens_model_list, kwargs_lens_list)\n",
    "ns  = getMinMaxSaddle(Img_ra, Img_dec, lens_model_list, kwargs_lens_list) \n",
    "                \n",
    "print('Time delays (seconds): ', tds)\n",
    "print('magnifications: ',  mus)\n",
    "print('Morse indices: ',ns)\n",
    "\n",
    "\n",
    "source_pos_x=beta0\n",
    "source_pos_y=beta1\n",
    "ImgRA =Img_ra\n",
    "ImgDEC=Img_dec\n",
    "\n",
    "from lensinggw.postprocess.postprocess import plot_images\n",
    "\n",
    "plot_images(None,None,source_pos_x, source_pos_y, lens_model_list, kwargs_lens_list, ImgRA=Img_ra, ImgDEC=Img_dec, Mu=None, Td=None, MacroImgRA=None, MacroImgDEC=None, MacroMu=None, MacroTd=None, compute_window_x=4.4e-6, compute_window_y=4.4e-6, center_x=0, center_y=0, xmin=- 5e-10, ymin=- 4e-10, Npixels=1000, how_left=1.85e-10, how_right=1.5e-11, how_up=2e-12, how_down=7e-11, mag_map=False, diff=None, **solver_kwargs)\n",
    "\n",
    "#plot_images(None,None,source_pos_x, source_pos_y, lens_model_list, kwargs_lens_list, ImgRA, ImgDEC, Mu=mus, Td=tds, MacroImgRA=None, MacroImgDEC=None, MacroMu=None, MacroTd=None, compute_window_x=0.002, compute_window_y=0.02, center_x=eta10, center_y=eta20, xmin=- 3e-1, ymin=- 4e-1, Npixels=1000, how_left=1.85e-10, how_right=1.5e-11, how_up=2e-12, how_down=7e-11, mag_map=False, diff=None, **solver_kwargs)\n",
    "\n",
    "\n"
   ]
  },
  {
   "cell_type": "code",
   "execution_count": null,
   "id": "03e1aa64",
   "metadata": {},
   "outputs": [],
   "source": []
  }
 ],
 "metadata": {
  "kernelspec": {
   "display_name": "Python 3 (ipykernel)",
   "language": "python",
   "name": "python3"
  },
  "language_info": {
   "codemirror_mode": {
    "name": "ipython",
    "version": 3
   },
   "file_extension": ".py",
   "mimetype": "text/x-python",
   "name": "python",
   "nbconvert_exporter": "python",
   "pygments_lexer": "ipython3",
   "version": "3.10.7"
  }
 },
 "nbformat": 4,
 "nbformat_minor": 5
}
