{
 "cells": [
  {
   "cell_type": "markdown",
   "id": "049a4eb5",
   "metadata": {},
   "source": [
    "   # Computing wave optics amplification factor\n",
    "   ## Type 1 embedded lens system\n",
    "The following example computes the wave optics amplification factor for a type 1 embedded lens system which consists of a macrolens of galaxy and a microlens of stellar object."
   ]
  },
  {
   "cell_type": "code",
   "execution_count": 1,
   "id": "bf02633a",
   "metadata": {},
   "outputs": [],
   "source": [
    "# import the necessary packages\n",
    "import numpy as np\n",
    "import matplotlib.pyplot as plt\n",
    "from bisect import bisect_left\n",
    "\n",
    "import sys\n",
    "import os\n",
    "path = os.getcwd()\n",
    "dir = os.path.abspath(os.path.join(path, os.pardir))\n",
    "sys.path.append(dir)\n",
    "import amplification_factor.amplification_factor as af\n",
    "\n",
    "import lensinggw.constants.constants as const \n",
    "G = const.G  # gravitational constant [m^3 kg^-1 s^-2]\n",
    "c = const.c  # speed of light [m/s]\n",
    "M_sun = const.M_sun  # Solar mass [Kg]\n",
    "\n",
    "from argparse import Namespace"
   ]
  },
  {
   "cell_type": "code",
   "execution_count": 2,
   "id": "8c3084d6",
   "metadata": {},
   "outputs": [],
   "source": [
    "df = 0.25\n",
    "textendmax = 1/df\n",
    "tlength = .13\n",
    "textend = textendmax-tlength\n",
    "args = {'LastImageT': .02, 'TExtend': textend, 'mu': 11., 'TimeMax': 1, 'TimeMin': .1, 'TimeLength': tlength, 'Timg': 118211.81107161, 'TimeStep': 1e-5, 'Winfac': 1.}\n",
    "args = Namespace(**args)"
   ]
  },
  {
   "cell_type": "code",
   "execution_count": 3,
   "id": "c53e3b1f",
   "metadata": {},
   "outputs": [],
   "source": [
    "# initialize the parameters\n",
    "\n",
    "mL1 = 1 * 1e10 # Galaxy lens's mass in solar mass\n",
    "mL2 = 100 # Microlens's mass\n",
    "mtot = mL1 + mL2\n",
    "mLc = 10\n",
    "\n",
    "# Define the redshifts of lens and source\n",
    "zL = 0.5\n",
    "zS = 1.0\n",
    "\n",
    "from lensinggw.utils.utils import param_processing\n",
    "\n",
    "# Einstein radii of lenses\n",
    "thetaE1 = param_processing(zL, zS, mL1)\n",
    "thetaE2 = param_processing(zL, zS, mL2)\n",
    "thetaE = param_processing(zL, zS, mtot)\n",
    "thetaEc = param_processing(zL, zS, mLc)\n",
    "\n",
    "# Binary positions on the source plane\n",
    "y0, y1 = 0.1, 0 # In Einstein raidus\n",
    "beta0, beta1 = y0 * thetaE, y1 * thetaE\n",
    "\n",
    "# Lens positions \n",
    "eta10, eta11 = 0, 0"
   ]
  },
  {
   "cell_type": "markdown",
   "id": "21ed313e",
   "metadata": {},
   "source": [
    "Compute the macroimage positions from the given parameters using lensingGW package."
   ]
  },
  {
   "cell_type": "code",
   "execution_count": 4,
   "id": "e7ff0362",
   "metadata": {},
   "outputs": [
    {
     "name": "stderr",
     "output_type": "stream",
     "text": [
      "/mnt/c/Users/simon/microlensing/venv/lib/python3.10/site-packages/lensinggw-1.0.0-py3.10.egg/lensinggw/solver/images.py:107: SyntaxWarning: \"is not\" with a literal. Did you mean \"!=\"?\n",
      "/mnt/c/Users/simon/microlensing/venv/lib/python3.10/site-packages/lensinggw-1.0.0-py3.10.egg/lensinggw/solver/images.py:107: SyntaxWarning: \"is\" with a literal. Did you mean \"==\"?\n",
      "/mnt/c/Users/simon/microlensing/venv/lib/python3.10/site-packages/lensinggw-1.0.0-py3.10.egg/lensinggw/solver/images.py:108: SyntaxWarning: \"is\" with a literal. Did you mean \"==\"?\n",
      "/mnt/c/Users/simon/microlensing/venv/lib/python3.10/site-packages/lensinggw-1.0.0-py3.10.egg/lensinggw/solver/images.py:117: SyntaxWarning: \"is not\" with a literal. Did you mean \"!=\"?\n",
      "/mnt/c/Users/simon/microlensing/venv/lib/python3.10/site-packages/lensinggw-1.0.0-py3.10.egg/lensinggw/solver/images.py:117: SyntaxWarning: \"is\" with a literal. Did you mean \"==\"?\n",
      "/mnt/c/Users/simon/microlensing/venv/lib/python3.10/site-packages/lensinggw-1.0.0-py3.10.egg/lensinggw/solver/images.py:146: SyntaxWarning: \"is not\" with a literal. Did you mean \"!=\"?\n",
      "/mnt/c/Users/simon/microlensing/venv/lib/python3.10/site-packages/lensinggw-1.0.0-py3.10.egg/lensinggw/solver/images.py:171: SyntaxWarning: \"is not\" with a literal. Did you mean \"!=\"?\n",
      "/mnt/c/Users/simon/microlensing/venv/lib/python3.10/site-packages/lensinggw-1.0.0-py3.10.egg/lensinggw/solver/images.py:171: SyntaxWarning: \"is not\" with a literal. Did you mean \"!=\"?\n",
      "/mnt/c/Users/simon/microlensing/venv/lib/python3.10/site-packages/lensinggw-1.0.0-py3.10.egg/lensinggw/solver/images.py:178: SyntaxWarning: \"is not\" with a literal. Did you mean \"!=\"?\n",
      "/mnt/c/Users/simon/microlensing/venv/lib/python3.10/site-packages/lensinggw-1.0.0-py3.10.egg/lensinggw/solver/images.py:178: SyntaxWarning: \"is\" with a literal. Did you mean \"==\"?\n",
      "/mnt/c/Users/simon/microlensing/venv/lib/python3.10/site-packages/lensinggw-1.0.0-py3.10.egg/lensinggw/solver/images.py:182: SyntaxWarning: \"is not\" with a literal. Did you mean \"!=\"?\n",
      "/mnt/c/Users/simon/microlensing/venv/lib/python3.10/site-packages/lensinggw-1.0.0-py3.10.egg/lensinggw/solver/images.py:182: SyntaxWarning: \"is\" with a literal. Did you mean \"==\"?\n",
      "/mnt/c/Users/simon/microlensing/venv/lib/python3.10/site-packages/lensinggw-1.0.0-py3.10.egg/lensinggw/solver/images.py:392: SyntaxWarning: \"is\" with a literal. Did you mean \"==\"?\n",
      "/mnt/c/Users/simon/microlensing/venv/lib/python3.10/site-packages/lensinggw-1.0.0-py3.10.egg/lensinggw/solver/images.py:392: SyntaxWarning: \"is\" with a literal. Did you mean \"==\"?\n",
      "/mnt/c/Users/simon/microlensing/venv/lib/python3.10/site-packages/lensinggw-1.0.0-py3.10.egg/lensinggw/solver/images.py:397: SyntaxWarning: \"is not\" with a literal. Did you mean \"!=\"?\n",
      "/mnt/c/Users/simon/microlensing/venv/lib/python3.10/site-packages/lensinggw-1.0.0-py3.10.egg/lensinggw/solver/images.py:397: SyntaxWarning: \"is\" with a literal. Did you mean \"==\"?\n",
      "/mnt/c/Users/simon/microlensing/venv/lib/python3.10/site-packages/lensinggw-1.0.0-py3.10.egg/lensinggw/solver/images.py:398: SyntaxWarning: \"is\" with a literal. Did you mean \"==\"?\n",
      "/mnt/c/Users/simon/microlensing/venv/lib/python3.10/site-packages/lensinggw-1.0.0-py3.10.egg/lensinggw/solver/images.py:403: SyntaxWarning: \"is\" with a literal. Did you mean \"==\"?\n",
      "/mnt/c/Users/simon/microlensing/venv/lib/python3.10/site-packages/lensinggw-1.0.0-py3.10.egg/lensinggw/solver/images.py:403: SyntaxWarning: \"is\" with a literal. Did you mean \"==\"?\n",
      "/mnt/c/Users/simon/microlensing/venv/lib/python3.10/site-packages/lensinggw-1.0.0-py3.10.egg/lensinggw/solver/images.py:408: SyntaxWarning: \"is not\" with a literal. Did you mean \"!=\"?\n",
      "/mnt/c/Users/simon/microlensing/venv/lib/python3.10/site-packages/lensinggw-1.0.0-py3.10.egg/lensinggw/solver/images.py:408: SyntaxWarning: \"is\" with a literal. Did you mean \"==\"?\n",
      "/mnt/c/Users/simon/microlensing/venv/lib/python3.10/site-packages/lensinggw-1.0.0-py3.10.egg/lensinggw/solver/images.py:107: SyntaxWarning: \"is not\" with a literal. Did you mean \"!=\"?\n",
      "/mnt/c/Users/simon/microlensing/venv/lib/python3.10/site-packages/lensinggw-1.0.0-py3.10.egg/lensinggw/solver/images.py:107: SyntaxWarning: \"is\" with a literal. Did you mean \"==\"?\n",
      "/mnt/c/Users/simon/microlensing/venv/lib/python3.10/site-packages/lensinggw-1.0.0-py3.10.egg/lensinggw/solver/images.py:108: SyntaxWarning: \"is\" with a literal. Did you mean \"==\"?\n",
      "/mnt/c/Users/simon/microlensing/venv/lib/python3.10/site-packages/lensinggw-1.0.0-py3.10.egg/lensinggw/solver/images.py:117: SyntaxWarning: \"is not\" with a literal. Did you mean \"!=\"?\n",
      "/mnt/c/Users/simon/microlensing/venv/lib/python3.10/site-packages/lensinggw-1.0.0-py3.10.egg/lensinggw/solver/images.py:117: SyntaxWarning: \"is\" with a literal. Did you mean \"==\"?\n",
      "/mnt/c/Users/simon/microlensing/venv/lib/python3.10/site-packages/lensinggw-1.0.0-py3.10.egg/lensinggw/solver/images.py:146: SyntaxWarning: \"is not\" with a literal. Did you mean \"!=\"?\n",
      "/mnt/c/Users/simon/microlensing/venv/lib/python3.10/site-packages/lensinggw-1.0.0-py3.10.egg/lensinggw/solver/images.py:171: SyntaxWarning: \"is not\" with a literal. Did you mean \"!=\"?\n",
      "/mnt/c/Users/simon/microlensing/venv/lib/python3.10/site-packages/lensinggw-1.0.0-py3.10.egg/lensinggw/solver/images.py:171: SyntaxWarning: \"is not\" with a literal. Did you mean \"!=\"?\n",
      "/mnt/c/Users/simon/microlensing/venv/lib/python3.10/site-packages/lensinggw-1.0.0-py3.10.egg/lensinggw/solver/images.py:178: SyntaxWarning: \"is not\" with a literal. Did you mean \"!=\"?\n",
      "/mnt/c/Users/simon/microlensing/venv/lib/python3.10/site-packages/lensinggw-1.0.0-py3.10.egg/lensinggw/solver/images.py:178: SyntaxWarning: \"is\" with a literal. Did you mean \"==\"?\n",
      "/mnt/c/Users/simon/microlensing/venv/lib/python3.10/site-packages/lensinggw-1.0.0-py3.10.egg/lensinggw/solver/images.py:182: SyntaxWarning: \"is not\" with a literal. Did you mean \"!=\"?\n",
      "/mnt/c/Users/simon/microlensing/venv/lib/python3.10/site-packages/lensinggw-1.0.0-py3.10.egg/lensinggw/solver/images.py:182: SyntaxWarning: \"is\" with a literal. Did you mean \"==\"?\n",
      "/mnt/c/Users/simon/microlensing/venv/lib/python3.10/site-packages/lensinggw-1.0.0-py3.10.egg/lensinggw/solver/images.py:392: SyntaxWarning: \"is\" with a literal. Did you mean \"==\"?\n",
      "/mnt/c/Users/simon/microlensing/venv/lib/python3.10/site-packages/lensinggw-1.0.0-py3.10.egg/lensinggw/solver/images.py:392: SyntaxWarning: \"is\" with a literal. Did you mean \"==\"?\n",
      "/mnt/c/Users/simon/microlensing/venv/lib/python3.10/site-packages/lensinggw-1.0.0-py3.10.egg/lensinggw/solver/images.py:397: SyntaxWarning: \"is not\" with a literal. Did you mean \"!=\"?\n",
      "/mnt/c/Users/simon/microlensing/venv/lib/python3.10/site-packages/lensinggw-1.0.0-py3.10.egg/lensinggw/solver/images.py:397: SyntaxWarning: \"is\" with a literal. Did you mean \"==\"?\n",
      "/mnt/c/Users/simon/microlensing/venv/lib/python3.10/site-packages/lensinggw-1.0.0-py3.10.egg/lensinggw/solver/images.py:398: SyntaxWarning: \"is\" with a literal. Did you mean \"==\"?\n",
      "/mnt/c/Users/simon/microlensing/venv/lib/python3.10/site-packages/lensinggw-1.0.0-py3.10.egg/lensinggw/solver/images.py:403: SyntaxWarning: \"is\" with a literal. Did you mean \"==\"?\n",
      "/mnt/c/Users/simon/microlensing/venv/lib/python3.10/site-packages/lensinggw-1.0.0-py3.10.egg/lensinggw/solver/images.py:403: SyntaxWarning: \"is\" with a literal. Did you mean \"==\"?\n",
      "/mnt/c/Users/simon/microlensing/venv/lib/python3.10/site-packages/lensinggw-1.0.0-py3.10.egg/lensinggw/solver/images.py:408: SyntaxWarning: \"is not\" with a literal. Did you mean \"!=\"?\n",
      "/mnt/c/Users/simon/microlensing/venv/lib/python3.10/site-packages/lensinggw-1.0.0-py3.10.egg/lensinggw/solver/images.py:408: SyntaxWarning: \"is\" with a literal. Did you mean \"==\"?\n"
     ]
    },
    {
     "name": "stdout",
     "output_type": "stream",
     "text": [
      "\n",
      "---- Will perform only the macromodel analysis ----\n",
      "\n",
      "---- Solver settings ----\n",
      "\n",
      "The macromodel analysis will be performed with the following settings:\n",
      "\n",
      "OnlyMacro         --> True\n",
      "Scaled            --> False\n",
      "SearchWindowMacro --> 8.052888061582412e-06\n",
      "PixelsMacro       --> 1000\n",
      "PrecisionLimit    --> 1e-20\n",
      "OverlapDistMacro  --> 1e-17\n",
      "NearSource        --> False\n",
      "Optimization      --> False\n",
      "Verbose           --> True\n",
      "\n",
      "\n",
      "---- Macromodel analysis ----\n",
      "\n",
      "Interesting regions of the first grid (no iteration yet):\n",
      "\n",
      "ra:\n",
      "[-7.20733481e-07  8.81791243e-07]\n",
      "dec:\n",
      "[-4.02644403e-09 -4.02644403e-09]\n",
      "pixel_width:\n",
      "8.052888061582012e-09\n",
      "\n",
      "\n",
      "Iteration # 0\n",
      "\n",
      "Pixels to iterate over, RAs:\n",
      "[-7.207334811089802e-07, 8.817912431459198e-07]\n",
      "Pixels to iterate over, DECs:\n",
      "[-4.026444030789735e-09, -4.026444030789735e-09]\n",
      "Pixels to iterate over, source displacements:\n",
      "[4.041569964298695e-09, 4.033208730674185e-09]\n",
      "\n",
      "\n",
      "\n",
      "Pixel size of the last iteration: 5.36859204105418e-10\n",
      "\n",
      "\n",
      "\n",
      "\n",
      "MACROIMAGES\n",
      "\n",
      "ra: [-7.24759925e-07  8.85817687e-07]\n",
      "dec: [1.27054942e-21 1.27054942e-21]\n",
      "\n",
      "Elapsed time: 0.47558140754699707 seconds\n",
      "\n"
     ]
    }
   ],
   "source": [
    "# Compute the image positions\n",
    "lens_model_list = ['SIS']\n",
    "kwargs_sis_1 = {'center_x': eta10, 'center_y': eta11, 'theta_E': thetaE1}\n",
    "kwargs_lens_list = [kwargs_sis_1]\n",
    "\n",
    "from lensinggw.solver.images import microimages\n",
    "\n",
    "solver_kwargs = {'SearchWindowMacro': 10 * thetaE1,\n",
    "                 'SearchWindow': 5 * thetaE2,\n",
    "                 'OverlapDistMacro': 1e-17,\n",
    "                 'OnlyMacro': True,\n",
    "                 'Verbose' : True}\n",
    "\n",
    "MacroImg_ra, MacroImg_dec, pixel_width = microimages(source_pos_x=beta0,\n",
    "                                                     source_pos_y=beta1,\n",
    "                                                     lens_model_list=lens_model_list,\n",
    "                                                     kwargs_lens=kwargs_lens_list,\n",
    "                                                     **solver_kwargs)"
   ]
  },
  {
   "cell_type": "markdown",
   "id": "cab86cbd",
   "metadata": {},
   "source": [
    "Input the position and the mass of the microlens and compute the microimages."
   ]
  },
  {
   "cell_type": "code",
   "execution_count": 6,
   "id": "28516185",
   "metadata": {
    "scrolled": false
   },
   "outputs": [
    {
     "name": "stdout",
     "output_type": "stream",
     "text": [
      "[<lenstronomy.LensModel.Profiles.sis.SIS object at 0x7f2997de7be0>]\n",
      "potential [5.83641055e-13 7.13339068e-13]\n",
      "prefactor 4.557193381334929e+17\n",
      "[3.24245031e-13 3.24245031e-13]\n"
     ]
    },
    {
     "name": "stderr",
     "output_type": "stream",
     "text": [
      "Integrating...: 100%|██████████████████████████████████████████████████████████████████████████████████████████████████████████████████████████████████| 256/256 [00:19<00:00, 13.45it/s]\n"
     ]
    },
    {
     "name": "stdout",
     "output_type": "stream",
     "text": [
      "[0.00000000e+00 3.38382655e-11 6.76764200e-11 ... 4.39794940e-07\n",
      " 4.39828778e-07 4.39862616e-07] [0.30055471 3.31900907 3.31900907 ... 3.3273066  3.36648934 3.26092641]\n",
      "[0.00000000e+00 6.20255825e-01 1.24051165e+00 ... 3.14157094e+05\n",
      " 3.14157715e+05 3.14158335e+05] [ 0.         -0.j          2.2110635  +2.21111486j\n",
      "  3.53768924 +0.88445696j ... 18.02765784+33.72015679j\n",
      " 14.52063279+38.99994262j  9.41146652+42.91051267j]\n"
     ]
    },
    {
     "data": {
      "image/png": "[encoded data removed]",
      "text/plain": [
       "<Figure size 640x480 with 1 Axes>"
      ]
     },
     "metadata": {},
     "output_type": "display_data"
    }
   ],
   "source": [
    "# Microlensing around type 1 image\n",
    "\n",
    "from lensinggw.utils.utils import TimeDelay, magnifications\n",
    "mus = magnifications(MacroImg_ra, MacroImg_dec, lens_model_list, kwargs_lens_list)\n",
    "\n",
    "# Locate the type 1 image by finding zero time delay image.\n",
    "TDS = TimeDelay(MacroImg_ra, MacroImg_dec,\n",
    "                beta0, beta1,\n",
    "                zL, zS,\n",
    "                lens_model_list, kwargs_lens_list)\n",
    "\n",
    "imindex = np.where(TDS==0)[0][0] # The corresponding image index\n",
    "mu = mus[imindex] # The corresponding macromagnification of the image\n",
    "\n",
    "from lenstronomy.LensModel.lens_model import LensModel\n",
    "lens_model_complete = LensModel(lens_model_list=lens_model_list)\n",
    "T = lens_model_complete.fermat_potential\n",
    "\n",
    "# Define T0 to be where the integration starts\n",
    "T0 = thetaE ** (-2) * T(MacroImg_ra[imindex], MacroImg_dec[imindex], kwargs_lens_list, beta0, beta1)\n",
    "Tscale = 4 * (1 + zL) * mtot * M_sun * G / c ** 3\n",
    "\n",
    "kwargs_wolensing = {'source_pos_x': beta0,\n",
    "                    'source_pos_y': beta1,\n",
    "                    'theta_E': thetaE,\n",
    "                    'LastImageT': .02/Tscale,\n",
    "                    'TExtend': 10./Tscale,\n",
    "                    'Tbuffer': 0.,\n",
    "                    'mu': mu}\n",
    "\n",
    "kwargs_integrator = {'InputScaled': False,\n",
    "                     'PixelNum': 30000,\n",
    "                     'PixelBlockMax': 2000,\n",
    "                     'WindowSize': 210*thetaEc,\n",
    "                     'WindowCenterX': MacroImg_ra[imindex],\n",
    "                     'WindowCenterY': MacroImg_dec[imindex],\n",
    "                     'TimeStep': 1e-5/Tscale, \n",
    "                     'TimeMax': T0 + 1./Tscale,\n",
    "                     'TimeMin': T0 - .1/Tscale,\n",
    "                     'TimeLength': 0.13/Tscale,\n",
    "                     'ImageRa': [],\n",
    "                     'ImageDec': [],\n",
    "                     'T0': T0,\n",
    "                     'Tscale': Tscale}\n",
    "\n",
    "ws, Fws = af.amplification_factor_fd(lens_model_list, args, kwargs_lens_list, **kwargs_wolensing,**kwargs_integrator) # Output in angular frequency\n",
    "\n",
    "plt.plot(ws/(2*np.pi), np.abs(Fws))\n",
    "\n",
    "np.savetxt('./test_ws_100.00000_1.00000.txt', ws)\n",
    "np.savetxt('./test_Fws_100.00000_1.00000.txt', Fws)"
   ]
  },
  {
   "cell_type": "markdown",
   "id": "e562c014",
   "metadata": {},
   "source": [
    "## Plotting the amplifcation factor"
   ]
  },
  {
   "cell_type": "code",
   "execution_count": 15,
   "id": "03e1aa64",
   "metadata": {},
   "outputs": [
    {
     "name": "stdout",
     "output_type": "stream",
     "text": [
      "2.0315969810691971e-16\n"
     ]
    },
    {
     "ename": "TypeError",
     "evalue": "cannot unpack non-iterable NoneType object",
     "output_type": "error",
     "traceback": [
      "\u001b[0;31m---------------------------------------------------------------------------\u001b[0m",
      "\u001b[0;31mTypeError\u001b[0m                                 Traceback (most recent call last)",
      "Cell \u001b[0;32mIn[15], line 14\u001b[0m\n\u001b[1;32m     11\u001b[0m     ws \u001b[38;5;241m=\u001b[39m \u001b[38;5;241m2\u001b[39m \u001b[38;5;241m*\u001b[39m np\u001b[38;5;241m.\u001b[39mpi \u001b[38;5;241m*\u001b[39m fftfreq(num, dt)[:num \u001b[38;5;241m/\u001b[39m\u001b[38;5;241m/\u001b[39m \u001b[38;5;241m2\u001b[39m]\n\u001b[1;32m     12\u001b[0m     Fw \u001b[38;5;241m=\u001b[39m np\u001b[38;5;241m.\u001b[39mconjugate(fft(Ft)[:num \u001b[38;5;241m/\u001b[39m\u001b[38;5;241m/\u001b[39m \u001b[38;5;241m2\u001b[39m] \u001b[38;5;241m*\u001b[39m (\u001b[38;5;241m1.\u001b[39mj) \u001b[38;5;241m*\u001b[39m ws \u001b[38;5;241m*\u001b[39m dt)\n\u001b[0;32m---> 14\u001b[0m ws, Fws \u001b[38;5;241m=\u001b[39m iwFourier(ws, Fws)\n\u001b[1;32m     16\u001b[0m fs \u001b[38;5;241m=\u001b[39m ws\u001b[38;5;241m/\u001b[39m(\u001b[38;5;241m2\u001b[39m\u001b[38;5;241m*\u001b[39mnp\u001b[38;5;241m.\u001b[39mpi)\n\u001b[1;32m     18\u001b[0m fig, ax \u001b[38;5;241m=\u001b[39m plt\u001b[38;5;241m.\u001b[39msubplots()\n",
      "\u001b[0;31mTypeError\u001b[0m: cannot unpack non-iterable NoneType object"
     ]
    }
   ],
   "source": [
    "ws = np.loadtxt('./test_ws_100.00000_1.00000.txt')\n",
    "#Fws = np.loadtxt('./test_Fws_100.00000_1.00000.txt', dtype=complex, converters={0: lambda s: complex(s.decode().replace('+-', '-'))})\n",
    "Fws = np.loadtxt('./test_Fws_100.00000_1.00000.txt')\n",
    "print(Fws[-1])\n",
    "\n",
    "from scipy.fft import fftfreq\n",
    "from scipy.fftpack import fft\n",
    "def iwFourier(ts, Ft):\n",
    "    num = len(ts)\n",
    "    dt = ts[1] - ts[0]\n",
    "    ws = 2 * np.pi * fftfreq(num, dt)[:num // 2]\n",
    "    Fw = np.conjugate(fft(Ft)[:num // 2] * (1.j) * ws * dt)\n",
    "\n",
    "ws, Fws = iwFourier(ws, Fws)\n",
    "    \n",
    "fs = ws/(2*np.pi)\n",
    "\n",
    "fig, ax = plt.subplots()\n",
    "i = bisect_left(fs,2000) # LIGO sensitivity range\n",
    "ax.plot(fs[:i], Fa_fil[:i], linewidth=1)"
   ]
  },
  {
   "cell_type": "code",
   "execution_count": null,
   "id": "b35c21de",
   "metadata": {},
   "outputs": [],
   "source": []
  }
 ],
 "metadata": {
  "kernelspec": {
   "display_name": "Python 3 (ipykernel)",
   "language": "python",
   "name": "python3"
  },
  "language_info": {
   "codemirror_mode": {
    "name": "ipython",
    "version": 3
   },
   "file_extension": ".py",
   "mimetype": "text/x-python",
   "name": "python",
   "nbconvert_exporter": "python",
   "pygments_lexer": "ipython3",
   "version": "3.10.6"
  }
 },
 "nbformat": 4,
 "nbformat_minor": 5
}
