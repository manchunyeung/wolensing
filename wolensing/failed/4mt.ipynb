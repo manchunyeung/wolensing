{
 "cells": [
  {
   "cell_type": "code",
   "execution_count": 1,
   "id": "57a39193",
   "metadata": {},
   "outputs": [],
   "source": [
    "import numpy as np"
   ]
  },
  {
   "cell_type": "code",
   "execution_count": 2,
   "id": "76905122",
   "metadata": {},
   "outputs": [
    {
     "name": "stdout",
     "output_type": "stream",
     "text": [
      "env: JAX_ENABLE_X64=True\n"
     ]
    }
   ],
   "source": [
    "%env JAX_ENABLE_X64=True"
   ]
  },
  {
   "cell_type": "code",
   "execution_count": 3,
   "id": "7262feed",
   "metadata": {},
   "outputs": [],
   "source": [
    "from lenstronomy.LensModel.lens_model import LensModel\n",
    "import lensinggw.constants.constants as const\n",
    "from lensinggw.utils.utils import TimeDelay, magnifications, getMinMaxSaddle"
   ]
  },
  {
   "cell_type": "code",
   "execution_count": 4,
   "id": "50217574-6602-4464-887c-33c412bd2d55",
   "metadata": {},
   "outputs": [],
   "source": [
    "import sys\n",
    "import os\n",
    "path = os.getcwd()\n",
    "dir = os.path.abspath(os.path.join(path, os.pardir))\n",
    "sys.path.append(dir)"
   ]
  },
  {
   "cell_type": "code",
   "execution_count": 5,
   "id": "901ecbec",
   "metadata": {},
   "outputs": [],
   "source": [
    "from plot.plot import plot_contour\n",
    "import amplification_factor.amplification_factor as af\n",
    "from lensmodels.potential import potential"
   ]
  },
  {
   "cell_type": "markdown",
   "id": "7a2d8fd7",
   "metadata": {},
   "source": [
    "The macroimage where the microlens is placed around."
   ]
  },
  {
   "cell_type": "code",
   "execution_count": 6,
   "id": "a6661425",
   "metadata": {},
   "outputs": [],
   "source": [
    "type2 = False"
   ]
  },
  {
   "cell_type": "code",
   "execution_count": 7,
   "id": "5f079d0c",
   "metadata": {},
   "outputs": [],
   "source": [
    "ym = 0.8\n",
    "angle = np.radians(float(0))"
   ]
  },
  {
   "cell_type": "markdown",
   "id": "a72db917",
   "metadata": {},
   "source": [
    "Importing constants"
   ]
  },
  {
   "cell_type": "code",
   "execution_count": 8,
   "id": "02812c10",
   "metadata": {},
   "outputs": [],
   "source": [
    "G = const.G  # gravitational constant [m^3 kg^-1 s^-2]\n",
    "c = const.c  # speed of light [m/s]\n",
    "M_sun = const.M_sun  # Solar mass [Kg]"
   ]
  },
  {
   "cell_type": "code",
   "execution_count": 9,
   "id": "01e050bd",
   "metadata": {},
   "outputs": [],
   "source": [
    "y0, y1 = 0.5, 0 # source position\n",
    "l0, l1 = 0., 0 # lens position\n",
    "\n",
    "zS = 1.0 # source redshift\n",
    "zL = 0.5 # lens redshift"
   ]
  },
  {
   "cell_type": "code",
   "execution_count": 10,
   "id": "4176d2f0",
   "metadata": {},
   "outputs": [],
   "source": [
    "mL1 = 1e10\n",
    "mL2 = 20\n",
    "mtot = mL1 + mL2\n",
    "\n",
    "# convert to radians\n",
    "from lensinggw.utils.utils import param_processing\n",
    "thetaE1 = param_processing(zL, zS, mL1)\n",
    "thetaE2 = param_processing(zL, zS, mL2)\n",
    "thetaE = param_processing(zL, zS, mtot)"
   ]
  },
  {
   "cell_type": "code",
   "execution_count": 11,
   "id": "f63f056b-7c14-4af6-9ad2-b48abfcaf796",
   "metadata": {},
   "outputs": [
    {
     "data": {
      "text/plain": [
       "8.052888069635299e-07"
      ]
     },
     "execution_count": 11,
     "metadata": {},
     "output_type": "execute_result"
    }
   ],
   "source": [
    "thetaE"
   ]
  },
  {
   "cell_type": "code",
   "execution_count": 12,
   "id": "a51bcc16-7e0b-46e3-9041-e8cfd74f3108",
   "metadata": {},
   "outputs": [
    {
     "name": "stdout",
     "output_type": "stream",
     "text": [
      "1.097926071881248e-26\n"
     ]
    }
   ],
   "source": [
    "Mpc=3.085677581491367e+22\n",
    "from astropy.cosmology import FlatLambdaCDM\n",
    "cosmo = FlatLambdaCDM(H0=69.7, Om0=0.306, Tcmb0=2.725)\n",
    "DL       = cosmo.angular_diameter_distance(zL)\n",
    "DS       = cosmo.angular_diameter_distance(zS)\n",
    "DLS      = cosmo.angular_diameter_distance_z1z2(zL, zS)\n",
    "D        = DLS/(DL*DS)\n",
    "print(np.float64(D/Mpc))"
   ]
  },
  {
   "cell_type": "code",
   "execution_count": 13,
   "id": "84bb287a-26f8-40d4-a86c-01aebcb761ab",
   "metadata": {},
   "outputs": [],
   "source": [
    "from utils.utils import Einstein_radius"
   ]
  },
  {
   "cell_type": "code",
   "execution_count": 14,
   "id": "ceb1b875-023a-43a1-9578-cbd08c6d3b2e",
   "metadata": {},
   "outputs": [
    {
     "name": "stdout",
     "output_type": "stream",
     "text": [
      "1.097926071881248e-26\n"
     ]
    },
    {
     "data": {
      "text/plain": [
       "8.052888069635299e-07"
      ]
     },
     "execution_count": 14,
     "metadata": {},
     "output_type": "execute_result"
    }
   ],
   "source": [
    "Einstein_radius(zL, zS, mtot)"
   ]
  },
  {
   "cell_type": "code",
   "execution_count": 15,
   "id": "67673902",
   "metadata": {},
   "outputs": [
    {
     "name": "stdout",
     "output_type": "stream",
     "text": [
      "\n",
      "---- Will perform only the macromodel analysis ----\n",
      "\n",
      "---- Solver settings ----\n",
      "\n",
      "The macromodel analysis will be performed with the following settings:\n",
      "\n",
      "OnlyMacro         --> True\n",
      "Scaled            --> False\n",
      "SearchWindowMacro --> 8.052888061582412e-06\n",
      "PixelsMacro       --> 1000\n",
      "PrecisionLimit    --> 1e-20\n",
      "OverlapDistMacro  --> 1e-17\n",
      "NearSource        --> False\n",
      "Optimization      --> False\n",
      "Verbose           --> False\n",
      "\n"
     ]
    },
    {
     "name": "stderr",
     "output_type": "stream",
     "text": [
      "/home/manchun.yeung/.conda/envs/wolensing/lib/python3.10/site-packages/lensinggw-1.0.0-py3.10.egg/lensinggw/solver/images.py:107: SyntaxWarning: \"is not\" with a literal. Did you mean \"!=\"?\n",
      "/home/manchun.yeung/.conda/envs/wolensing/lib/python3.10/site-packages/lensinggw-1.0.0-py3.10.egg/lensinggw/solver/images.py:107: SyntaxWarning: \"is\" with a literal. Did you mean \"==\"?\n",
      "/home/manchun.yeung/.conda/envs/wolensing/lib/python3.10/site-packages/lensinggw-1.0.0-py3.10.egg/lensinggw/solver/images.py:108: SyntaxWarning: \"is\" with a literal. Did you mean \"==\"?\n",
      "/home/manchun.yeung/.conda/envs/wolensing/lib/python3.10/site-packages/lensinggw-1.0.0-py3.10.egg/lensinggw/solver/images.py:117: SyntaxWarning: \"is not\" with a literal. Did you mean \"!=\"?\n",
      "/home/manchun.yeung/.conda/envs/wolensing/lib/python3.10/site-packages/lensinggw-1.0.0-py3.10.egg/lensinggw/solver/images.py:117: SyntaxWarning: \"is\" with a literal. Did you mean \"==\"?\n",
      "/home/manchun.yeung/.conda/envs/wolensing/lib/python3.10/site-packages/lensinggw-1.0.0-py3.10.egg/lensinggw/solver/images.py:146: SyntaxWarning: \"is not\" with a literal. Did you mean \"!=\"?\n",
      "/home/manchun.yeung/.conda/envs/wolensing/lib/python3.10/site-packages/lensinggw-1.0.0-py3.10.egg/lensinggw/solver/images.py:171: SyntaxWarning: \"is not\" with a literal. Did you mean \"!=\"?\n",
      "/home/manchun.yeung/.conda/envs/wolensing/lib/python3.10/site-packages/lensinggw-1.0.0-py3.10.egg/lensinggw/solver/images.py:171: SyntaxWarning: \"is not\" with a literal. Did you mean \"!=\"?\n",
      "/home/manchun.yeung/.conda/envs/wolensing/lib/python3.10/site-packages/lensinggw-1.0.0-py3.10.egg/lensinggw/solver/images.py:178: SyntaxWarning: \"is not\" with a literal. Did you mean \"!=\"?\n",
      "/home/manchun.yeung/.conda/envs/wolensing/lib/python3.10/site-packages/lensinggw-1.0.0-py3.10.egg/lensinggw/solver/images.py:178: SyntaxWarning: \"is\" with a literal. Did you mean \"==\"?\n",
      "/home/manchun.yeung/.conda/envs/wolensing/lib/python3.10/site-packages/lensinggw-1.0.0-py3.10.egg/lensinggw/solver/images.py:182: SyntaxWarning: \"is not\" with a literal. Did you mean \"!=\"?\n",
      "/home/manchun.yeung/.conda/envs/wolensing/lib/python3.10/site-packages/lensinggw-1.0.0-py3.10.egg/lensinggw/solver/images.py:182: SyntaxWarning: \"is\" with a literal. Did you mean \"==\"?\n",
      "/home/manchun.yeung/.conda/envs/wolensing/lib/python3.10/site-packages/lensinggw-1.0.0-py3.10.egg/lensinggw/solver/images.py:392: SyntaxWarning: \"is\" with a literal. Did you mean \"==\"?\n",
      "/home/manchun.yeung/.conda/envs/wolensing/lib/python3.10/site-packages/lensinggw-1.0.0-py3.10.egg/lensinggw/solver/images.py:392: SyntaxWarning: \"is\" with a literal. Did you mean \"==\"?\n",
      "/home/manchun.yeung/.conda/envs/wolensing/lib/python3.10/site-packages/lensinggw-1.0.0-py3.10.egg/lensinggw/solver/images.py:397: SyntaxWarning: \"is not\" with a literal. Did you mean \"!=\"?\n",
      "/home/manchun.yeung/.conda/envs/wolensing/lib/python3.10/site-packages/lensinggw-1.0.0-py3.10.egg/lensinggw/solver/images.py:397: SyntaxWarning: \"is\" with a literal. Did you mean \"==\"?\n",
      "/home/manchun.yeung/.conda/envs/wolensing/lib/python3.10/site-packages/lensinggw-1.0.0-py3.10.egg/lensinggw/solver/images.py:398: SyntaxWarning: \"is\" with a literal. Did you mean \"==\"?\n",
      "/home/manchun.yeung/.conda/envs/wolensing/lib/python3.10/site-packages/lensinggw-1.0.0-py3.10.egg/lensinggw/solver/images.py:403: SyntaxWarning: \"is\" with a literal. Did you mean \"==\"?\n",
      "/home/manchun.yeung/.conda/envs/wolensing/lib/python3.10/site-packages/lensinggw-1.0.0-py3.10.egg/lensinggw/solver/images.py:403: SyntaxWarning: \"is\" with a literal. Did you mean \"==\"?\n",
      "/home/manchun.yeung/.conda/envs/wolensing/lib/python3.10/site-packages/lensinggw-1.0.0-py3.10.egg/lensinggw/solver/images.py:408: SyntaxWarning: \"is not\" with a literal. Did you mean \"!=\"?\n",
      "/home/manchun.yeung/.conda/envs/wolensing/lib/python3.10/site-packages/lensinggw-1.0.0-py3.10.egg/lensinggw/solver/images.py:408: SyntaxWarning: \"is\" with a literal. Did you mean \"==\"?\n",
      "/home/manchun.yeung/.conda/envs/wolensing/lib/python3.10/site-packages/lensinggw-1.0.0-py3.10.egg/lensinggw/solver/images.py:107: SyntaxWarning: \"is not\" with a literal. Did you mean \"!=\"?\n",
      "/home/manchun.yeung/.conda/envs/wolensing/lib/python3.10/site-packages/lensinggw-1.0.0-py3.10.egg/lensinggw/solver/images.py:107: SyntaxWarning: \"is\" with a literal. Did you mean \"==\"?\n",
      "/home/manchun.yeung/.conda/envs/wolensing/lib/python3.10/site-packages/lensinggw-1.0.0-py3.10.egg/lensinggw/solver/images.py:108: SyntaxWarning: \"is\" with a literal. Did you mean \"==\"?\n",
      "/home/manchun.yeung/.conda/envs/wolensing/lib/python3.10/site-packages/lensinggw-1.0.0-py3.10.egg/lensinggw/solver/images.py:117: SyntaxWarning: \"is not\" with a literal. Did you mean \"!=\"?\n",
      "/home/manchun.yeung/.conda/envs/wolensing/lib/python3.10/site-packages/lensinggw-1.0.0-py3.10.egg/lensinggw/solver/images.py:117: SyntaxWarning: \"is\" with a literal. Did you mean \"==\"?\n",
      "/home/manchun.yeung/.conda/envs/wolensing/lib/python3.10/site-packages/lensinggw-1.0.0-py3.10.egg/lensinggw/solver/images.py:146: SyntaxWarning: \"is not\" with a literal. Did you mean \"!=\"?\n",
      "/home/manchun.yeung/.conda/envs/wolensing/lib/python3.10/site-packages/lensinggw-1.0.0-py3.10.egg/lensinggw/solver/images.py:171: SyntaxWarning: \"is not\" with a literal. Did you mean \"!=\"?\n",
      "/home/manchun.yeung/.conda/envs/wolensing/lib/python3.10/site-packages/lensinggw-1.0.0-py3.10.egg/lensinggw/solver/images.py:171: SyntaxWarning: \"is not\" with a literal. Did you mean \"!=\"?\n",
      "/home/manchun.yeung/.conda/envs/wolensing/lib/python3.10/site-packages/lensinggw-1.0.0-py3.10.egg/lensinggw/solver/images.py:178: SyntaxWarning: \"is not\" with a literal. Did you mean \"!=\"?\n",
      "/home/manchun.yeung/.conda/envs/wolensing/lib/python3.10/site-packages/lensinggw-1.0.0-py3.10.egg/lensinggw/solver/images.py:178: SyntaxWarning: \"is\" with a literal. Did you mean \"==\"?\n",
      "/home/manchun.yeung/.conda/envs/wolensing/lib/python3.10/site-packages/lensinggw-1.0.0-py3.10.egg/lensinggw/solver/images.py:182: SyntaxWarning: \"is not\" with a literal. Did you mean \"!=\"?\n",
      "/home/manchun.yeung/.conda/envs/wolensing/lib/python3.10/site-packages/lensinggw-1.0.0-py3.10.egg/lensinggw/solver/images.py:182: SyntaxWarning: \"is\" with a literal. Did you mean \"==\"?\n",
      "/home/manchun.yeung/.conda/envs/wolensing/lib/python3.10/site-packages/lensinggw-1.0.0-py3.10.egg/lensinggw/solver/images.py:392: SyntaxWarning: \"is\" with a literal. Did you mean \"==\"?\n",
      "/home/manchun.yeung/.conda/envs/wolensing/lib/python3.10/site-packages/lensinggw-1.0.0-py3.10.egg/lensinggw/solver/images.py:392: SyntaxWarning: \"is\" with a literal. Did you mean \"==\"?\n",
      "/home/manchun.yeung/.conda/envs/wolensing/lib/python3.10/site-packages/lensinggw-1.0.0-py3.10.egg/lensinggw/solver/images.py:397: SyntaxWarning: \"is not\" with a literal. Did you mean \"!=\"?\n",
      "/home/manchun.yeung/.conda/envs/wolensing/lib/python3.10/site-packages/lensinggw-1.0.0-py3.10.egg/lensinggw/solver/images.py:397: SyntaxWarning: \"is\" with a literal. Did you mean \"==\"?\n",
      "/home/manchun.yeung/.conda/envs/wolensing/lib/python3.10/site-packages/lensinggw-1.0.0-py3.10.egg/lensinggw/solver/images.py:398: SyntaxWarning: \"is\" with a literal. Did you mean \"==\"?\n",
      "/home/manchun.yeung/.conda/envs/wolensing/lib/python3.10/site-packages/lensinggw-1.0.0-py3.10.egg/lensinggw/solver/images.py:403: SyntaxWarning: \"is\" with a literal. Did you mean \"==\"?\n",
      "/home/manchun.yeung/.conda/envs/wolensing/lib/python3.10/site-packages/lensinggw-1.0.0-py3.10.egg/lensinggw/solver/images.py:403: SyntaxWarning: \"is\" with a literal. Did you mean \"==\"?\n",
      "/home/manchun.yeung/.conda/envs/wolensing/lib/python3.10/site-packages/lensinggw-1.0.0-py3.10.egg/lensinggw/solver/images.py:408: SyntaxWarning: \"is not\" with a literal. Did you mean \"!=\"?\n",
      "/home/manchun.yeung/.conda/envs/wolensing/lib/python3.10/site-packages/lensinggw-1.0.0-py3.10.egg/lensinggw/solver/images.py:408: SyntaxWarning: \"is\" with a literal. Did you mean \"==\"?\n"
     ]
    },
    {
     "name": "stdout",
     "output_type": "stream",
     "text": [
      "\n",
      "\n",
      "\n",
      "MACROIMAGES\n",
      "\n",
      "ra: [-4.02644403e-07  1.20793321e-06]\n",
      "dec: [-4.23516474e-22 -4.23516474e-22]\n",
      "\n",
      "\n",
      "---- Solver settings ----\n",
      "\n",
      "The macromodel analysis will be performed with the following settings:\n",
      "\n",
      "OnlyMacro         --> False\n",
      "Scaled            --> False\n",
      "SearchWindowMacro --> 8.052888061582412e-06\n",
      "PixelsMacro       --> 1000\n",
      "PrecisionLimit    --> 1e-20\n",
      "OverlapDistMacro  --> 1e-17\n",
      "NearSource        --> False\n",
      "Optimization      --> False\n",
      "Verbose           --> False\n",
      "\n",
      "\n",
      "\n",
      "\n",
      "MACROIMAGES\n",
      "\n",
      "ra: [-4.02644403e-07  1.20793321e-06]\n",
      "dec: [-4.23516474e-22 -4.23516474e-22]\n",
      "\n",
      "\n",
      "---- Solver settings ----\n",
      "\n",
      "The complete model analysis will be performed with the following settings:\n",
      "\n",
      "Scaled         --> False\n",
      "OnlyMacro      --> False\n",
      "MacroIndex     --> [0]\n",
      "ImgIndex       --> None\n",
      "SearchWindow   --> 1.4405444096715827e-09\n",
      "Pixels         --> 10000.0\n",
      "OverlapDist    --> 1e-18\n",
      "PrecisionLimit --> 1e-20\n",
      "Optimization   --> False\n",
      "Verbose        --> False\n",
      "ÍmgIndex       --> 1\n",
      "Improvement    --> 0.1\n",
      "MinDist        --> 1e-07\n",
      "\n"
     ]
    },
    {
     "name": "stderr",
     "output_type": "stream",
     "text": [
      "/home/manchun.yeung/.conda/envs/wolensing/lib/python3.10/site-packages/lensinggw-1.0.0-py3.10.egg/lensinggw/solver/images.py:107: SyntaxWarning: \"is not\" with a literal. Did you mean \"!=\"?\n",
      "  if key is not 'ScaleFactor' or (key is 'ScaleFactor' and solverKwargs['Scaled']):\n",
      "/home/manchun.yeung/.conda/envs/wolensing/lib/python3.10/site-packages/lensinggw-1.0.0-py3.10.egg/lensinggw/solver/images.py:107: SyntaxWarning: \"is\" with a literal. Did you mean \"==\"?\n",
      "  if key is not 'ScaleFactor' or (key is 'ScaleFactor' and solverKwargs['Scaled']):\n",
      "/home/manchun.yeung/.conda/envs/wolensing/lib/python3.10/site-packages/lensinggw-1.0.0-py3.10.egg/lensinggw/solver/images.py:108: SyntaxWarning: \"is\" with a literal. Did you mean \"==\"?\n",
      "  if key is 'PrecisionLimit'and solverKwargs['Optimization']: pass\n",
      "/home/manchun.yeung/.conda/envs/wolensing/lib/python3.10/site-packages/lensinggw-1.0.0-py3.10.egg/lensinggw/solver/images.py:117: SyntaxWarning: \"is not\" with a literal. Did you mean \"!=\"?\n",
      "  if key is not 'ScaleFactor' or (key is 'ScaleFactor' and solverKwargs['Scaled']):\n",
      "/home/manchun.yeung/.conda/envs/wolensing/lib/python3.10/site-packages/lensinggw-1.0.0-py3.10.egg/lensinggw/solver/images.py:117: SyntaxWarning: \"is\" with a literal. Did you mean \"==\"?\n",
      "  if key is not 'ScaleFactor' or (key is 'ScaleFactor' and solverKwargs['Scaled']):\n",
      "/home/manchun.yeung/.conda/envs/wolensing/lib/python3.10/site-packages/lensinggw-1.0.0-py3.10.egg/lensinggw/solver/images.py:146: SyntaxWarning: \"is not\" with a literal. Did you mean \"!=\"?\n",
      "  elif len(prev_Img_ra) is not 0:\n",
      "/home/manchun.yeung/.conda/envs/wolensing/lib/python3.10/site-packages/lensinggw-1.0.0-py3.10.egg/lensinggw/solver/images.py:171: SyntaxWarning: \"is not\" with a literal. Did you mean \"!=\"?\n",
      "  if key is not 'SearchWindowMacro' and key is not 'PixelsMacro':\n",
      "/home/manchun.yeung/.conda/envs/wolensing/lib/python3.10/site-packages/lensinggw-1.0.0-py3.10.egg/lensinggw/solver/images.py:171: SyntaxWarning: \"is not\" with a literal. Did you mean \"!=\"?\n",
      "  if key is not 'SearchWindowMacro' and key is not 'PixelsMacro':\n",
      "/home/manchun.yeung/.conda/envs/wolensing/lib/python3.10/site-packages/lensinggw-1.0.0-py3.10.egg/lensinggw/solver/images.py:178: SyntaxWarning: \"is not\" with a literal. Did you mean \"!=\"?\n",
      "  if key is not 'ScaleFactor' or (key is 'ScaleFactor' and solverKwargs['Scaled']):\n",
      "/home/manchun.yeung/.conda/envs/wolensing/lib/python3.10/site-packages/lensinggw-1.0.0-py3.10.egg/lensinggw/solver/images.py:178: SyntaxWarning: \"is\" with a literal. Did you mean \"==\"?\n",
      "  if key is not 'ScaleFactor' or (key is 'ScaleFactor' and solverKwargs['Scaled']):\n",
      "/home/manchun.yeung/.conda/envs/wolensing/lib/python3.10/site-packages/lensinggw-1.0.0-py3.10.egg/lensinggw/solver/images.py:182: SyntaxWarning: \"is not\" with a literal. Did you mean \"!=\"?\n",
      "  if key is not 'ScaleFactor' or (key is 'ScaleFactor' and solverKwargs['Scaled']):\n",
      "/home/manchun.yeung/.conda/envs/wolensing/lib/python3.10/site-packages/lensinggw-1.0.0-py3.10.egg/lensinggw/solver/images.py:182: SyntaxWarning: \"is\" with a literal. Did you mean \"==\"?\n",
      "  if key is not 'ScaleFactor' or (key is 'ScaleFactor' and solverKwargs['Scaled']):\n",
      "/home/manchun.yeung/.conda/envs/wolensing/lib/python3.10/site-packages/lensinggw-1.0.0-py3.10.egg/lensinggw/solver/images.py:392: SyntaxWarning: \"is\" with a literal. Did you mean \"==\"?\n",
      "  if key is 'MacroIndex' or key is 'OnlyMacro':\n",
      "/home/manchun.yeung/.conda/envs/wolensing/lib/python3.10/site-packages/lensinggw-1.0.0-py3.10.egg/lensinggw/solver/images.py:392: SyntaxWarning: \"is\" with a literal. Did you mean \"==\"?\n",
      "  if key is 'MacroIndex' or key is 'OnlyMacro':\n",
      "/home/manchun.yeung/.conda/envs/wolensing/lib/python3.10/site-packages/lensinggw-1.0.0-py3.10.egg/lensinggw/solver/images.py:397: SyntaxWarning: \"is not\" with a literal. Did you mean \"!=\"?\n",
      "  if key is not 'ScaleFactor' or (key is 'ScaleFactor' and solverKwargs['Scaled']):\n",
      "/home/manchun.yeung/.conda/envs/wolensing/lib/python3.10/site-packages/lensinggw-1.0.0-py3.10.egg/lensinggw/solver/images.py:397: SyntaxWarning: \"is\" with a literal. Did you mean \"==\"?\n",
      "  if key is not 'ScaleFactor' or (key is 'ScaleFactor' and solverKwargs['Scaled']):\n",
      "/home/manchun.yeung/.conda/envs/wolensing/lib/python3.10/site-packages/lensinggw-1.0.0-py3.10.egg/lensinggw/solver/images.py:398: SyntaxWarning: \"is\" with a literal. Did you mean \"==\"?\n",
      "  if key is 'PrecisionLimit' and solverKwargs['Optimization']: pass\n",
      "/home/manchun.yeung/.conda/envs/wolensing/lib/python3.10/site-packages/lensinggw-1.0.0-py3.10.egg/lensinggw/solver/images.py:403: SyntaxWarning: \"is\" with a literal. Did you mean \"==\"?\n",
      "  if key is 'MacroIndex' or key is 'OnlyMacro':\n",
      "/home/manchun.yeung/.conda/envs/wolensing/lib/python3.10/site-packages/lensinggw-1.0.0-py3.10.egg/lensinggw/solver/images.py:403: SyntaxWarning: \"is\" with a literal. Did you mean \"==\"?\n",
      "  if key is 'MacroIndex' or key is 'OnlyMacro':\n",
      "/home/manchun.yeung/.conda/envs/wolensing/lib/python3.10/site-packages/lensinggw-1.0.0-py3.10.egg/lensinggw/solver/images.py:408: SyntaxWarning: \"is not\" with a literal. Did you mean \"!=\"?\n",
      "  if key is not 'ScaleFactor' or (key is 'ScaleFactor' and solverKwargs['Scaled']):\n",
      "/home/manchun.yeung/.conda/envs/wolensing/lib/python3.10/site-packages/lensinggw-1.0.0-py3.10.egg/lensinggw/solver/images.py:408: SyntaxWarning: \"is\" with a literal. Did you mean \"==\"?\n",
      "  if key is not 'ScaleFactor' or (key is 'ScaleFactor' and solverKwargs['Scaled']):\n",
      "/home/manchun.yeung/.conda/envs/wolensing/lib/python3.10/site-packages/lensinggw-1.0.0-py3.10.egg/lensinggw/solver/images.py:107: SyntaxWarning: \"is not\" with a literal. Did you mean \"!=\"?\n",
      "  if key is not 'ScaleFactor' or (key is 'ScaleFactor' and solverKwargs['Scaled']):\n",
      "/home/manchun.yeung/.conda/envs/wolensing/lib/python3.10/site-packages/lensinggw-1.0.0-py3.10.egg/lensinggw/solver/images.py:107: SyntaxWarning: \"is\" with a literal. Did you mean \"==\"?\n",
      "  if key is not 'ScaleFactor' or (key is 'ScaleFactor' and solverKwargs['Scaled']):\n",
      "/home/manchun.yeung/.conda/envs/wolensing/lib/python3.10/site-packages/lensinggw-1.0.0-py3.10.egg/lensinggw/solver/images.py:108: SyntaxWarning: \"is\" with a literal. Did you mean \"==\"?\n",
      "  if key is 'PrecisionLimit'and solverKwargs['Optimization']: pass\n",
      "/home/manchun.yeung/.conda/envs/wolensing/lib/python3.10/site-packages/lensinggw-1.0.0-py3.10.egg/lensinggw/solver/images.py:117: SyntaxWarning: \"is not\" with a literal. Did you mean \"!=\"?\n",
      "  if key is not 'ScaleFactor' or (key is 'ScaleFactor' and solverKwargs['Scaled']):\n",
      "/home/manchun.yeung/.conda/envs/wolensing/lib/python3.10/site-packages/lensinggw-1.0.0-py3.10.egg/lensinggw/solver/images.py:117: SyntaxWarning: \"is\" with a literal. Did you mean \"==\"?\n",
      "  if key is not 'ScaleFactor' or (key is 'ScaleFactor' and solverKwargs['Scaled']):\n",
      "/home/manchun.yeung/.conda/envs/wolensing/lib/python3.10/site-packages/lensinggw-1.0.0-py3.10.egg/lensinggw/solver/images.py:146: SyntaxWarning: \"is not\" with a literal. Did you mean \"!=\"?\n",
      "  elif len(prev_Img_ra) is not 0:\n",
      "/home/manchun.yeung/.conda/envs/wolensing/lib/python3.10/site-packages/lensinggw-1.0.0-py3.10.egg/lensinggw/solver/images.py:171: SyntaxWarning: \"is not\" with a literal. Did you mean \"!=\"?\n",
      "  if key is not 'SearchWindowMacro' and key is not 'PixelsMacro':\n",
      "/home/manchun.yeung/.conda/envs/wolensing/lib/python3.10/site-packages/lensinggw-1.0.0-py3.10.egg/lensinggw/solver/images.py:171: SyntaxWarning: \"is not\" with a literal. Did you mean \"!=\"?\n",
      "  if key is not 'SearchWindowMacro' and key is not 'PixelsMacro':\n",
      "/home/manchun.yeung/.conda/envs/wolensing/lib/python3.10/site-packages/lensinggw-1.0.0-py3.10.egg/lensinggw/solver/images.py:178: SyntaxWarning: \"is not\" with a literal. Did you mean \"!=\"?\n",
      "  if key is not 'ScaleFactor' or (key is 'ScaleFactor' and solverKwargs['Scaled']):\n",
      "/home/manchun.yeung/.conda/envs/wolensing/lib/python3.10/site-packages/lensinggw-1.0.0-py3.10.egg/lensinggw/solver/images.py:178: SyntaxWarning: \"is\" with a literal. Did you mean \"==\"?\n",
      "  if key is not 'ScaleFactor' or (key is 'ScaleFactor' and solverKwargs['Scaled']):\n",
      "/home/manchun.yeung/.conda/envs/wolensing/lib/python3.10/site-packages/lensinggw-1.0.0-py3.10.egg/lensinggw/solver/images.py:182: SyntaxWarning: \"is not\" with a literal. Did you mean \"!=\"?\n",
      "  if key is not 'ScaleFactor' or (key is 'ScaleFactor' and solverKwargs['Scaled']):\n",
      "/home/manchun.yeung/.conda/envs/wolensing/lib/python3.10/site-packages/lensinggw-1.0.0-py3.10.egg/lensinggw/solver/images.py:182: SyntaxWarning: \"is\" with a literal. Did you mean \"==\"?\n",
      "  if key is not 'ScaleFactor' or (key is 'ScaleFactor' and solverKwargs['Scaled']):\n",
      "/home/manchun.yeung/.conda/envs/wolensing/lib/python3.10/site-packages/lensinggw-1.0.0-py3.10.egg/lensinggw/solver/images.py:392: SyntaxWarning: \"is\" with a literal. Did you mean \"==\"?\n",
      "  if key is 'MacroIndex' or key is 'OnlyMacro':\n",
      "/home/manchun.yeung/.conda/envs/wolensing/lib/python3.10/site-packages/lensinggw-1.0.0-py3.10.egg/lensinggw/solver/images.py:392: SyntaxWarning: \"is\" with a literal. Did you mean \"==\"?\n",
      "  if key is 'MacroIndex' or key is 'OnlyMacro':\n",
      "/home/manchun.yeung/.conda/envs/wolensing/lib/python3.10/site-packages/lensinggw-1.0.0-py3.10.egg/lensinggw/solver/images.py:397: SyntaxWarning: \"is not\" with a literal. Did you mean \"!=\"?\n",
      "  if key is not 'ScaleFactor' or (key is 'ScaleFactor' and solverKwargs['Scaled']):\n",
      "/home/manchun.yeung/.conda/envs/wolensing/lib/python3.10/site-packages/lensinggw-1.0.0-py3.10.egg/lensinggw/solver/images.py:397: SyntaxWarning: \"is\" with a literal. Did you mean \"==\"?\n",
      "  if key is not 'ScaleFactor' or (key is 'ScaleFactor' and solverKwargs['Scaled']):\n",
      "/home/manchun.yeung/.conda/envs/wolensing/lib/python3.10/site-packages/lensinggw-1.0.0-py3.10.egg/lensinggw/solver/images.py:398: SyntaxWarning: \"is\" with a literal. Did you mean \"==\"?\n",
      "  if key is 'PrecisionLimit' and solverKwargs['Optimization']: pass\n",
      "/home/manchun.yeung/.conda/envs/wolensing/lib/python3.10/site-packages/lensinggw-1.0.0-py3.10.egg/lensinggw/solver/images.py:403: SyntaxWarning: \"is\" with a literal. Did you mean \"==\"?\n",
      "  if key is 'MacroIndex' or key is 'OnlyMacro':\n",
      "/home/manchun.yeung/.conda/envs/wolensing/lib/python3.10/site-packages/lensinggw-1.0.0-py3.10.egg/lensinggw/solver/images.py:403: SyntaxWarning: \"is\" with a literal. Did you mean \"==\"?\n",
      "  if key is 'MacroIndex' or key is 'OnlyMacro':\n",
      "/home/manchun.yeung/.conda/envs/wolensing/lib/python3.10/site-packages/lensinggw-1.0.0-py3.10.egg/lensinggw/solver/images.py:408: SyntaxWarning: \"is not\" with a literal. Did you mean \"!=\"?\n",
      "  if key is not 'ScaleFactor' or (key is 'ScaleFactor' and solverKwargs['Scaled']):\n",
      "/home/manchun.yeung/.conda/envs/wolensing/lib/python3.10/site-packages/lensinggw-1.0.0-py3.10.egg/lensinggw/solver/images.py:408: SyntaxWarning: \"is\" with a literal. Did you mean \"==\"?\n",
      "  if key is not 'ScaleFactor' or (key is 'ScaleFactor' and solverKwargs['Scaled']):\n"
     ]
    },
    {
     "ename": "TypeError",
     "evalue": "'OutStream' object is not callable",
     "output_type": "error",
     "traceback": [
      "\u001b[0;31m---------------------------------------------------------------------------\u001b[0m",
      "\u001b[0;31mTypeError\u001b[0m                                 Traceback (most recent call last)",
      "Cell \u001b[0;32mIn[15], line 68\u001b[0m\n\u001b[1;32m     65\u001b[0m solver_kwargs\u001b[38;5;241m.\u001b[39mupdate({\u001b[38;5;124m'\u001b[39m\u001b[38;5;124mImprovement\u001b[39m\u001b[38;5;124m'\u001b[39m : \u001b[38;5;241m0.1\u001b[39m})\n\u001b[1;32m     66\u001b[0m solver_kwargs\u001b[38;5;241m.\u001b[39mupdate({\u001b[38;5;124m'\u001b[39m\u001b[38;5;124mMinDist\u001b[39m\u001b[38;5;124m'\u001b[39m : \u001b[38;5;241m10\u001b[39m\u001b[38;5;241m*\u001b[39m\u001b[38;5;241m*\u001b[39m(\u001b[38;5;241m-\u001b[39m\u001b[38;5;241m7\u001b[39m)})\n\u001b[0;32m---> 68\u001b[0m Img_ra, Img_dec, MacroImg_ra, MacroImg_dec, pixel_width \u001b[38;5;241m=\u001b[39m \u001b[43mmicroimages\u001b[49m\u001b[43m(\u001b[49m\u001b[43msource_pos_x\u001b[49m\u001b[38;5;241;43m=\u001b[39;49m\u001b[43mbeta0\u001b[49m\u001b[43m,\u001b[49m\n\u001b[1;32m     69\u001b[0m \u001b[43m                                                                      \u001b[49m\u001b[43msource_pos_y\u001b[49m\u001b[38;5;241;43m=\u001b[39;49m\u001b[43mbeta1\u001b[49m\u001b[43m,\u001b[49m\n\u001b[1;32m     70\u001b[0m \u001b[43m                                                                      \u001b[49m\u001b[43mlens_model_list\u001b[49m\u001b[38;5;241;43m=\u001b[39;49m\u001b[43mlens_model_list\u001b[49m\u001b[43m,\u001b[49m\n\u001b[1;32m     71\u001b[0m \u001b[43m                                                                      \u001b[49m\u001b[43mkwargs_lens\u001b[49m\u001b[38;5;241;43m=\u001b[39;49m\u001b[43mkwargs_lens_list\u001b[49m\u001b[43m,\u001b[49m\n\u001b[1;32m     72\u001b[0m \u001b[43m                                                                      \u001b[49m\u001b[38;5;241;43m*\u001b[39;49m\u001b[38;5;241;43m*\u001b[39;49m\u001b[43msolver_kwargs\u001b[49m\u001b[43m)\u001b[49m\n\u001b[1;32m     73\u001b[0m \u001b[38;5;66;03m# Images_dict = {'Source_ra': beta0,\u001b[39;00m\n\u001b[1;32m     74\u001b[0m \u001b[38;5;66;03m#                'Source_dec': beta1,\u001b[39;00m\n\u001b[1;32m     75\u001b[0m \u001b[38;5;66;03m#                'Img_ra': Img_ra,\u001b[39;00m\n\u001b[0;32m   (...)\u001b[0m\n\u001b[1;32m     82\u001b[0m \n\u001b[1;32m     83\u001b[0m \u001b[38;5;66;03m# time delays, magnifications, Morse indices \u001b[39;00m\n\u001b[1;32m     84\u001b[0m \u001b[38;5;28;01mfrom\u001b[39;00m \u001b[38;5;21;01mlensinggw\u001b[39;00m\u001b[38;5;21;01m.\u001b[39;00m\u001b[38;5;21;01mutils\u001b[39;00m\u001b[38;5;21;01m.\u001b[39;00m\u001b[38;5;21;01mutils\u001b[39;00m \u001b[38;5;28;01mimport\u001b[39;00m TimeDelay, magnifications, getMinMaxSaddle\n",
      "File \u001b[0;32m~/.conda/envs/wolensing/lib/python3.10/site-packages/lensinggw-1.0.0-py3.10.egg/lensinggw/solver/images.py:431\u001b[0m, in \u001b[0;36mmicroimages\u001b[0;34m(source_pos_x, source_pos_y, lens_model_list, kwargs_lens, **kwargs)\u001b[0m\n\u001b[1;32m    428\u001b[0m center_x     \u001b[38;5;241m=\u001b[39m x0\n\u001b[1;32m    429\u001b[0m center_y     \u001b[38;5;241m=\u001b[39m x1\n\u001b[0;32m--> 431\u001b[0m temp_Img_ra, temp_Img_dec, pixel_width \u001b[38;5;241m=\u001b[39m \u001b[43mlens_eq_solutions\u001b[49m\u001b[43m(\u001b[49m\u001b[43msource_pos_x\u001b[49m\u001b[43m  \u001b[49m\u001b[38;5;241;43m=\u001b[39;49m\u001b[43m \u001b[49m\u001b[43msource_pos_x\u001b[49m\u001b[43m,\u001b[49m\n\u001b[1;32m    432\u001b[0m \u001b[43m                                                           \u001b[49m\u001b[43msource_pos_y\u001b[49m\u001b[43m  \u001b[49m\u001b[38;5;241;43m=\u001b[39;49m\u001b[43m \u001b[49m\u001b[43msource_pos_y\u001b[49m\u001b[43m,\u001b[49m\n\u001b[1;32m    433\u001b[0m \u001b[43m                                                           \u001b[49m\u001b[43mx_center\u001b[49m\u001b[43m      \u001b[49m\u001b[38;5;241;43m=\u001b[39;49m\u001b[43m \u001b[49m\u001b[43mcenter_x\u001b[49m\u001b[43m,\u001b[49m\n\u001b[1;32m    434\u001b[0m \u001b[43m                                                           \u001b[49m\u001b[43my_center\u001b[49m\u001b[43m      \u001b[49m\u001b[38;5;241;43m=\u001b[39;49m\u001b[43m \u001b[49m\u001b[43mcenter_y\u001b[49m\u001b[43m,\u001b[49m\n\u001b[1;32m    435\u001b[0m \u001b[43m                                                           \u001b[49m\u001b[43msearch_window\u001b[49m\u001b[43m \u001b[49m\u001b[38;5;241;43m=\u001b[39;49m\u001b[43m \u001b[49m\u001b[43msearch_window\u001b[49m\u001b[43m,\u001b[49m\n\u001b[1;32m    436\u001b[0m \u001b[43m                                                           \u001b[49m\u001b[43mmin_distance\u001b[49m\u001b[43m  \u001b[49m\u001b[38;5;241;43m=\u001b[39;49m\u001b[43m \u001b[49m\u001b[43mmin_distance\u001b[49m\u001b[43m,\u001b[49m\n\u001b[1;32m    437\u001b[0m \u001b[43m                                                           \u001b[49m\u001b[43mlens_model\u001b[49m\u001b[43m    \u001b[49m\u001b[38;5;241;43m=\u001b[39;49m\u001b[43m \u001b[49m\u001b[43mlens_model_complete\u001b[49m\u001b[43m,\u001b[49m\n\u001b[1;32m    438\u001b[0m \u001b[43m                                                           \u001b[49m\u001b[43mkwargs_lens\u001b[49m\u001b[43m   \u001b[49m\u001b[38;5;241;43m=\u001b[39;49m\u001b[43m \u001b[49m\u001b[43mmodel_kwargs\u001b[49m\u001b[43m,\u001b[49m\n\u001b[1;32m    439\u001b[0m \u001b[43m                                                           \u001b[49m\u001b[43mmacromodel\u001b[49m\u001b[43m    \u001b[49m\u001b[38;5;241;43m=\u001b[39;49m\u001b[43m \u001b[49m\u001b[38;5;28;43;01mFalse\u001b[39;49;00m\u001b[43m,\u001b[49m\n\u001b[1;32m    440\u001b[0m \u001b[43m                                                           \u001b[49m\u001b[38;5;241;43m*\u001b[39;49m\u001b[38;5;241;43m*\u001b[39;49m\u001b[43msolverKwargs\u001b[49m\u001b[43m)\u001b[49m \n\u001b[1;32m    442\u001b[0m \u001b[38;5;66;03m# store minimum pixel size, in case numerical differentiation is requested\u001b[39;00m\n\u001b[1;32m    443\u001b[0m \u001b[38;5;28;01mif\u001b[39;00m pixel_width\u001b[38;5;241m>\u001b[39minitial_pixel_width:\n",
      "File \u001b[0;32m~/.conda/envs/wolensing/lib/python3.10/site-packages/lensinggw-1.0.0-py3.10.egg/lensinggw/solver/solver.py:223\u001b[0m, in \u001b[0;36mlens_eq_solutions\u001b[0;34m(source_pos_x, source_pos_y, x_center, y_center, search_window, min_distance, lens_model, kwargs_lens, macromodel, **solverKwargs)\u001b[0m\n\u001b[1;32m    218\u001b[0m \u001b[38;5;28;01mif\u001b[39;00m verbose: sys\u001b[38;5;241m.\u001b[39mstdout\u001b[38;5;241m.\u001b[39mwrite(\u001b[38;5;124m'\u001b[39m\u001b[38;5;130;01m\\n\u001b[39;00m\u001b[38;5;130;01m\\n\u001b[39;00m\u001b[38;5;124mPixel size of the last iteration: \u001b[39m\u001b[38;5;132;01m{0}\u001b[39;00m\u001b[38;5;130;01m\\n\u001b[39;00m\u001b[38;5;130;01m\\n\u001b[39;00m\u001b[38;5;124m'\u001b[39m\u001b[38;5;241m.\u001b[39mformat(pixel_width))\n\u001b[1;32m    220\u001b[0m \u001b[38;5;28;01mif\u001b[39;00m (pixel_width\u001b[38;5;241m<\u001b[39m\u001b[38;5;241m10\u001b[39m\u001b[38;5;241m*\u001b[39m\u001b[38;5;241m*\u001b[39m(\u001b[38;5;241m-\u001b[39m\u001b[38;5;241m25\u001b[39m)\u001b[38;5;241m/\u001b[39mscale_factor): \n\u001b[1;32m    221\u001b[0m \n\u001b[1;32m    222\u001b[0m     \u001b[38;5;66;03m# stopping condition reached\u001b[39;00m\n\u001b[0;32m--> 223\u001b[0m     \u001b[43msys\u001b[49m\u001b[38;5;241;43m.\u001b[39;49m\u001b[43mstdout\u001b[49m\u001b[43m(\u001b[49m\u001b[38;5;124;43m'\u001b[39;49m\u001b[38;5;130;43;01m\\n\u001b[39;49;00m\u001b[38;5;130;43;01m\\n\u001b[39;49;00m\u001b[38;5;124;43mMinumum pixel size reached. The iteration will be stopped.\u001b[39;49m\u001b[38;5;130;43;01m\\n\u001b[39;49;00m\u001b[38;5;124;43m'\u001b[39;49m\u001b[43m)\u001b[49m\n\u001b[1;32m    224\u001b[0m     non_stop \u001b[38;5;241m=\u001b[39m \u001b[38;5;28;01mFalse\u001b[39;00m\n\u001b[1;32m    226\u001b[0m \u001b[38;5;28;01melse\u001b[39;00m:\n\u001b[1;32m    227\u001b[0m \n\u001b[1;32m    228\u001b[0m     \u001b[38;5;66;03m# start over again\u001b[39;00m\n",
      "\u001b[0;31mTypeError\u001b[0m: 'OutStream' object is not callable"
     ]
    }
   ],
   "source": [
    "beta0, beta1 = y0 * thetaE, y1 * thetaE\n",
    "eta10, eta11 = 0 * l0 * thetaE, 0 * l1 * thetaE\n",
    "lens_model_list = ['SIS']\n",
    "kwargs_sis_1 = {'center_x': eta10, 'center_y': eta11, 'theta_E': thetaE1}\n",
    "kwargs_lens_list = [kwargs_sis_1]\n",
    "\n",
    "kwargs_sis_1_scaled = {'center_x': eta10 / thetaE, 'center_y': eta11 / thetaE, 'theta_E': thetaE1 / thetaE}\n",
    "kwargs_lens_list_scaled = [kwargs_sis_1_scaled]\n",
    "\n",
    "from lensinggw.solver.images import microimages\n",
    "solver_kwargs = {'SearchWindowMacro': 10 * thetaE1,\n",
    "                 'SearchWindow': 5 * thetaE2,\n",
    "                 'OverlapDistMacro': 1e-17,\n",
    "                 'OnlyMacro': True}\n",
    "MacroImg_ra, MacroImg_dec, pixel_width = microimages(source_pos_x=beta0,\n",
    "                                                     source_pos_y=beta1,\n",
    "                                                     lens_model_list=lens_model_list,\n",
    "                                                     kwargs_lens=kwargs_lens_list,\n",
    "                                                     **solver_kwargs)\n",
    "\n",
    "Td = TimeDelay(MacroImg_ra, MacroImg_dec,\n",
    "                beta0, beta1,\n",
    "                zL, zS,\n",
    "                lens_model_list, kwargs_lens_list)\n",
    "Mus = magnifications(MacroImg_ra, MacroImg_dec, lens_model_list, kwargs_lens_list)\n",
    "if type2:\n",
    "    microtype = np.nonzero(Td)[0][0]\n",
    "else:\n",
    "    microtype = np.where(Td==0)[0][0]\n",
    "\n",
    "masses = [60, 40, 20, 30]\n",
    "angle = [0, 150, 260]\n",
    "ym = [1., .4, 4.]\n",
    "\n",
    "# num_points = len(masses)\n",
    "# for j in range(0,num_points):\n",
    "#     theta_E = param_processing(zL, zS, masses[j])# lens model\n",
    "#     #positioning the microlenses\n",
    "#     eta20 = MacroImg_ra[microtype] + ym[j]*np.cos(np.radians(angle[j])) * theta_E\n",
    "#     eta21 = MacroImg_dec[microtype] + ym[j] * np.sin(np.radians(angle[j])) * theta_E\n",
    "#     lens_model_list.append('POINT_MASS')\n",
    "#     kwargs_lens_list.append({'center_x': eta20, 'center_y': eta21, 'theta_E': theta_E})\n",
    "\n",
    "mass_density = 100\n",
    "from utils.lensing import *\n",
    "radius = injection_radius(masses, mass_density) #rad\n",
    "lens_model_list, kwargs_lens_list = field_injection(zL, zS, MacroImg_ra[microtype], MacroImg_dec[microtype], masses, radius, lens_model_list, kwargs_lens_list, seed=1)\n",
    "\n",
    "lens_model_list.append('POINT_MASS')\n",
    "kwargs_lens_list.append({'center_x': 1.2081120649948832e-06, 'center_y': 2.3590773305795136e-10, 'theta_E': 8.052888061582411e-12})\n",
    "# Injecting microlens around desired macroimage\n",
    "# eta20, eta21 = MacroImg_ra[microtype] + np.cos(angle)*ym*thetaE2, MacroImg_dec[microtype] + np.sin(angle)*ym*thetaE2\n",
    "# lens_model_list = ['SIS', 'POINT_MASS']\n",
    "# kwargs_sis_1 = {'center_x': eta10, 'center_y': eta11, 'theta_E': thetaE1}\n",
    "# kwargs_point_mass_2 = {'center_x': eta20, 'center_y': eta21, 'theta_E': thetaE2}\n",
    "# kwargs_lens_list = [kwargs_sis_1, kwargs_point_mass_2]\n",
    "\n",
    "from lensinggw.solver.images import microimages\n",
    "solver_kwargs = {'SearchWindowMacro': 10 * thetaE1,\n",
    "                 'SearchWindow': 40 * thetaE2,\n",
    "                 'Pixels': 10*1e3,\n",
    "                 'ÍmgIndex': 1,\n",
    "                 'OverlapDist': 1e-18,\n",
    "                 'OverlapDistMacro': 1e-17}\n",
    "solver_kwargs.update({'Improvement' : 0.1})\n",
    "solver_kwargs.update({'MinDist' : 10**(-7)})\n",
    "\n",
    "Img_ra, Img_dec, MacroImg_ra, MacroImg_dec, pixel_width = microimages(source_pos_x=beta0,\n",
    "                                                                      source_pos_y=beta1,\n",
    "                                                                      lens_model_list=lens_model_list,\n",
    "                                                                      kwargs_lens=kwargs_lens_list,\n",
    "                                                                      **solver_kwargs)\n",
    "# Images_dict = {'Source_ra': beta0,\n",
    "#                'Source_dec': beta1,\n",
    "#                'Img_ra': Img_ra,\n",
    "#                'Img_dec': Img_dec,\n",
    "#                'MacroImg_ra': MacroImg_ra,\n",
    "#                'MacroImg_dec': MacroImg_dec,\n",
    "#                'Microlens_ra': [eta20],\n",
    "#                'Microlens_dec': [eta21],\n",
    "#                'thetaE': thetaE}\n",
    "\n",
    "# time delays, magnifications, Morse indices \n",
    "from lensinggw.utils.utils import TimeDelay, magnifications, getMinMaxSaddle\n",
    "from lensinggw.amplification_factor.amplification_factor import geometricalOpticsMagnification\n",
    "tds = TimeDelay(Img_ra, Img_dec,\n",
    "               beta0, beta1,\n",
    "               zL, zS,\n",
    "               lens_model_list, kwargs_lens_list)\n",
    "mus = magnifications(Img_ra, Img_dec, lens_model_list, kwargs_lens_list)\n",
    "ns = getMinMaxSaddle(Img_ra, Img_dec, lens_model_list, kwargs_lens_list, diff = None)\n",
    "print('Time delays (seconds): ', tds)\n",
    "print('magnifications: ', mus)\n",
    "print('Morse indices: ', ns)\n",
    "    \n",
    "lens_model_complete = LensModel(lens_model_list=lens_model_list)\n",
    "T = lens_model_complete.fermat_potential\n",
    "T0 = thetaE ** (-2) * T(Img_ra[microtype], Img_dec[microtype], kwargs_lens_list, beta0, beta1)#[0]\n",
    "if not isinstance(T0, float):\n",
    "    T0 = T0[0]\n",
    "Tscale = 4 * (1 + zL) * mtot * M_sun * G / c ** 3\n",
    "print('T0 = {}'.format(T0))\n",
    "print('Tscale = {}'.format(Tscale))"
   ]
  },
  {
   "cell_type": "code",
   "execution_count": null,
   "id": "d706fb46",
   "metadata": {},
   "outputs": [],
   "source": [
    "# plot only the microimages around the desired macroimage\n",
    "Img_ra = np.delete(Img_ra, [0])\n",
    "Img_dec = np.delete(Img_dec, [0])"
   ]
  },
  {
   "cell_type": "code",
   "execution_count": null,
   "id": "dfb348ca-b713-4d83-9e55-ab816ddeaaa0",
   "metadata": {},
   "outputs": [],
   "source": [
    "# from lenstronomy.LensModel.Solver.lens_equation_solver import LensEquationSolver\n",
    "# from lenstronomy.LensModel.lens_model import LensModel\n",
    "# lensmodel = LensModel(lens_model_list=lens_model_list)\n",
    "# solver = LensEquationSolver(\n",
    "#     lensModel = lensmodel\n",
    "# )\n",
    "# Img_ra, Img_dec = solver.image_position_stochastic(\n",
    "#     source_x = beta0,\n",
    "#     source_y = beta1,\n",
    "#     kwargs_lens = kwargs_lens_list,\n",
    "#     # min_distance = 1e-13,\n",
    "#     # solver='lenstronomy'\n",
    "#     search_window = 20*thetaE2,\n",
    "#     # verbose=True,\n",
    "#     precision_limit=10**(-17),\n",
    "#     x_center = MacroImg_ra[microtype],\n",
    "#     y_center= MacroImg_dec[microtype]\n",
    "# )"
   ]
  },
  {
   "cell_type": "code",
   "execution_count": null,
   "id": "4535e89f-5dcd-4a54-9947-dc93fe36054e",
   "metadata": {},
   "outputs": [],
   "source": [
    "Img_ra, Img_dec"
   ]
  },
  {
   "cell_type": "code",
   "execution_count": null,
   "id": "bdf724fd-4e87-4a58-b6fa-095d3c958e4c",
   "metadata": {},
   "outputs": [],
   "source": [
    "kwargs_lens_list"
   ]
  },
  {
   "cell_type": "code",
   "execution_count": null,
   "id": "79338b8a-84c5-4881-94ea-221039596896",
   "metadata": {},
   "outputs": [],
   "source": [
    "lens_model_complete = LensModel(lens_model_list=lens_model_list)\n",
    "T = lens_model_complete.fermat_potential\n",
    "T0 = thetaE ** (-2) * T(MacroImg_ra[microtype], MacroImg_dec[microtype], kwargs_lens_list, beta0, beta1)#[0]"
   ]
  },
  {
   "cell_type": "code",
   "execution_count": null,
   "id": "60c6180e",
   "metadata": {},
   "outputs": [],
   "source": [
    "import matplotlib.pyplot as plt\n",
    "\n",
    "fig, ax = plt.subplots()\n",
    "plot_contour(ax, lens_model_list, eta10, eta11, 4*thetaE1, kwargs_lens_list, beta0, beta1, MacroImg_ra, MacroImg_dec,\n",
    "                    T0 = T0, Tfac = (thetaE)**(-2), micro=False)\n"
   ]
  },
  {
   "cell_type": "code",
   "execution_count": null,
   "id": "3cba8071",
   "metadata": {},
   "outputs": [],
   "source": [
    "fig1, ax1 = plt.subplots()\n",
    "plot_contour(ax1, lens_model_list, MacroImg_ra[microtype], MacroImg_dec[microtype], 20*thetaE2, kwargs_lens_list, beta0, beta1, Img_ra, Img_dec,\n",
    "                    T0 = T0, Tfac = (thetaE)**(-2), micro=True)"
   ]
  },
  {
   "cell_type": "code",
   "execution_count": null,
   "id": "b4caacf1-42ff-4fe2-bf0a-ec70a0bb5a0b",
   "metadata": {},
   "outputs": [],
   "source": [
    "lens_model_list, kwargs_lens_list"
   ]
  },
  {
   "cell_type": "code",
   "execution_count": null,
   "id": "d4f1feca-cd82-45c9-834f-2a7758c4441b",
   "metadata": {},
   "outputs": [],
   "source": [
    "Tscale = 4 * (1 + zL) * mtot * M_sun * G / c ** 3\n"
   ]
  },
  {
   "cell_type": "code",
   "execution_count": null,
   "id": "9bd586e0",
   "metadata": {},
   "outputs": [],
   "source": [
    "# Define the characteristic WindowSize\n",
    "mL3 = 10\n",
    "thetaE3 = param_processing(zL, zS, mL3)"
   ]
  },
  {
   "cell_type": "code",
   "execution_count": null,
   "id": "227ea166-c507-4d5b-ae5b-be2eabddbbf0",
   "metadata": {},
   "outputs": [],
   "source": [
    "import time"
   ]
  },
  {
   "cell_type": "code",
   "execution_count": null,
   "id": "e8a3acf6-64c6-4ea4-82e6-08b25aa10da7",
   "metadata": {},
   "outputs": [],
   "source": [
    "kwargs_macro = {'source_pos_x': beta0,\n",
    "                'source_pos_y': beta1,\n",
    "                'theta_E': thetaE,\n",
    "                'mu': np.abs(Mus[microtype]),\n",
    "               }\n",
    "\n",
    "kwargs_integrator = {'PixelNum': int(40000),\n",
    "                     'PixelBlockMax': 2000,\n",
    "                     'WindowSize': 2.*210*thetaE3,\n",
    "                     'WindowCenterX': MacroImg_ra[microtype],\n",
    "                     'WindowCenterY': MacroImg_dec[microtype],\n",
    "                     'T0': T0,\n",
    "                     'TimeStep': 1e-5/Tscale, \n",
    "                     'TimeMax': T0 + .7/Tscale,\n",
    "                     'TimeMin': T0 - .5/Tscale,\n",
    "                     'TimeLength': 1./Tscale,\n",
    "                     'TExtend': 10/Tscale,\n",
    "                     'LastImageT': .02/Tscale,\n",
    "                     'Tbuffer': .1/Tscale,\n",
    "                     'Tscale': Tscale}\n",
    "\n",
    "\n",
    "amplification = af.amplification_factor(lens_model_list=lens_model_list, kwargs_lens=kwargs_lens_list, kwargs_macro=kwargs_macro, **kwargs_integrator)\n",
    "ts, Ft = amplification.integrator(gpu=False)\n",
    "ws, Fws = amplification.fourier()\n",
    "amplification.plot_freq()"
   ]
  },
  {
   "cell_type": "code",
   "execution_count": null,
   "id": "2c995db7-9a3b-4592-b4fb-9bc5ff4b663c",
   "metadata": {},
   "outputs": [],
   "source": [
    "plt.plot(ts, Ft)"
   ]
  },
  {
   "cell_type": "code",
   "execution_count": null,
   "id": "20cbe386-d62e-4780-8d5a-eaf256669ee9",
   "metadata": {},
   "outputs": [],
   "source": [
    "amplification.plot_freq(smooth=False)"
   ]
  },
  {
   "cell_type": "code",
   "execution_count": null,
   "id": "56520cb5-fabf-4d47-b97a-c2419da71700",
   "metadata": {},
   "outputs": [],
   "source": [
    "amplification.plot_freq(pha=True, smooth=False)"
   ]
  },
  {
   "cell_type": "markdown",
   "id": "9b9a1a8d-96b4-4db3-b9c1-e944715bee99",
   "metadata": {},
   "source": [
    "# Geometrical optics\n",
    "To get the geometrical optics around type 1 image, we need the magnifications, time delay and the image positions of the microimages"
   ]
  },
  {
   "cell_type": "code",
   "execution_count": null,
   "id": "e6063307-a3ce-42d0-8aa4-ab0c06f1764d",
   "metadata": {},
   "outputs": [],
   "source": [
    "tds = TimeDelay(Img_ra, Img_dec,\n",
    "               beta0, beta1,\n",
    "               zL, zS,\n",
    "               lens_model_list, kwargs_lens_list)\n",
    "mus = magnifications(Img_ra, Img_dec, lens_model_list, kwargs_lens_list)\n",
    "ns = getMinMaxSaddle(Img_ra, Img_dec, lens_model_list, kwargs_lens_list, diff = None)"
   ]
  },
  {
   "cell_type": "code",
   "execution_count": null,
   "id": "15d95b8f-f74c-44a0-bcba-68e9ed72b3dc",
   "metadata": {},
   "outputs": [],
   "source": [
    "from wolensing.utils.utils import *\n",
    "Morce_indices()"
   ]
  },
  {
   "cell_type": "code",
   "execution_count": null,
   "id": "60e8e7dc-189d-473c-aae8-ca1394d3ad42",
   "metadata": {},
   "outputs": [],
   "source": [
    "Img_ra, Img_dec"
   ]
  },
  {
   "cell_type": "code",
   "execution_count": null,
   "id": "f8bdcf53-f1ff-4664-b8e2-52f509f24ea4",
   "metadata": {},
   "outputs": [],
   "source": [
    "geofs, geoFws = amplification.geometrical_optics(mus, tds, Img_ra, Img_dec, upper_lim=2000)"
   ]
  },
  {
   "cell_type": "code",
   "execution_count": null,
   "id": "7c3b3688-0893-4073-865c-b91a4cf22007",
   "metadata": {},
   "outputs": [],
   "source": [
    "plt.semilogx(geofs, np.abs(geoFws))"
   ]
  },
  {
   "cell_type": "code",
   "execution_count": null,
   "id": "146e69e6-fb9a-4a49-b86a-156acb569170",
   "metadata": {},
   "outputs": [],
   "source": [
    "plt.semilogx(geofs, np.angle(geoFws))"
   ]
  },
  {
   "cell_type": "markdown",
   "id": "7fa9c5fb-d6de-4cd1-b567-9c663cce8d3a",
   "metadata": {},
   "source": [
    "# Full amplification factor concatenated with geometrical optics\n",
    "Given the computaional cost of the diffraction integral, we concatenate the result of wave optics at low frequency and geometrical optics at high frequency to obtain a full amplification factor with default upper bound of 3000Hz."
   ]
  },
  {
   "cell_type": "code",
   "execution_count": null,
   "id": "d2f9f748-c126-4599-b42c-61526dd97247",
   "metadata": {},
   "outputs": [],
   "source": [
    "fullfs, fullFws = amplification.concatenate()\n",
    "plt.semilogx(fullfs, np.abs(fullFws))"
   ]
  },
  {
   "cell_type": "code",
   "execution_count": null,
   "id": "c9c91898-608d-4845-947d-5879e090b756",
   "metadata": {},
   "outputs": [],
   "source": [
    "plt.semilogx(fullfs, np.angle(fullFws))"
   ]
  },
  {
   "cell_type": "code",
   "execution_count": null,
   "id": "35e138a8-344c-4ac3-b05a-9ff16aa49b6a",
   "metadata": {},
   "outputs": [],
   "source": [
    "fac = np.sqrt(np.abs(Mus[microtype]))"
   ]
  },
  {
   "cell_type": "code",
   "execution_count": null,
   "id": "c5d94fd4-5346-4036-9847-846b630e6d55",
   "metadata": {},
   "outputs": [],
   "source": [
    "plt.clf()\n",
    "plt.rc('text', usetex=True)\n",
    "plt.rc('font', family='serif')"
   ]
  },
  {
   "cell_type": "code",
   "execution_count": null,
   "id": "c05015e6-b2f9-46cf-bd54-0de6fcce2ffa",
   "metadata": {},
   "outputs": [],
   "source": [
    "from bisect import bisect_left\n",
    "low_index = bisect_left(geofs, 1)\n",
    "geofs = geofs[low_index:]\n",
    "geoFws = geoFws[low_index:]\n",
    "ws = ws[low_index:]\n",
    "Fws = Fws[low_index:]"
   ]
  },
  {
   "cell_type": "code",
   "execution_count": null,
   "id": "bd63c1e3-1be0-409a-84cc-c8a3b7539b95",
   "metadata": {},
   "outputs": [],
   "source": [
    "ww = geofs\n",
    "plt.semilogx(geofs, (fac*np.exp(-ww*np.pi/188) + (1-np.exp(-ww*np.pi/188))*np.abs(geoFws))/fac, label='Approximation')\n",
    "plt.semilogx(geofs, np.abs(geoFws)/fac,label=r'$F_{geo}$')\n",
    "plt.semilogx(ws, np.abs(Fws)/fac, label=r'$F_{wave}$')\n",
    "plt.ylabel(r'$|F|/\\sqrt{\\mu}$')\n",
    "plt.xlabel(r'$f$')\n",
    "plt.grid(which='both', alpha=0.5)\n",
    "plt.legend()\n",
    "plt.xlim(1, 2000)\n",
    "# plt.savefig('./approx.png',bbox_inches='tight', dpi=300)"
   ]
  },
  {
   "cell_type": "code",
   "execution_count": null,
   "id": "f3a14844-dcbf-4c6d-98cb-dcadb081e274",
   "metadata": {},
   "outputs": [],
   "source": [
    "mus, tds"
   ]
  },
  {
   "cell_type": "code",
   "execution_count": null,
   "id": "88af27e5-37b0-46e4-a623-9d51fd9f763d",
   "metadata": {},
   "outputs": [],
   "source": [
    "model = (fac*np.exp(-ww*np.pi/188) + (1-np.exp(-ww*np.pi/188))*np.abs(geoFws))"
   ]
  },
  {
   "cell_type": "code",
   "execution_count": null,
   "id": "5c768e52-926a-416c-a138-e08da6ae6ea7",
   "metadata": {},
   "outputs": [],
   "source": [
    "np.savetxt('data/4mt_ws.txt', ws)\n",
    "np.savetxt('data/4mt_Fws.txt', Fws)\n",
    "np.savetxt('data/4mt_geofs.txt', geofs)\n",
    "np.savetxt('data/4mt_model.txt', model)"
   ]
  },
  {
   "cell_type": "code",
   "execution_count": null,
   "id": "ccee9e72-6118-47d0-bf86-f6ea742255c7",
   "metadata": {},
   "outputs": [],
   "source": [
    "model_ang = (1-np.exp(-ww*np.pi/37.5))*np.angle(geoFws)\n",
    "np.savetxt('data/4mt_model_ang.txt', model_ang)"
   ]
  },
  {
   "cell_type": "code",
   "execution_count": null,
   "id": "f47c8206-9b1c-45eb-872b-596113b2db0a",
   "metadata": {},
   "outputs": [],
   "source": [
    "plt.semilogx(geofs, (1-np.exp(-ww*np.pi/37.5))*np.angle(geoFws), label='Approximation')\n",
    "plt.semilogx(geofs, np.angle(geoFws),label=r'$F_{geo}$')\n",
    "plt.semilogx(ws, np.angle(Fws), label=r'$F_{wave}$')\n",
    "plt.ylabel(r'$args(F)$')\n",
    "plt.xlabel(r'$f$')\n",
    "plt.grid(which='both', alpha=0.5)\n",
    "plt.legend()\n",
    "plt.xlim(1, 2000)\n",
    "# plt.savefig('./approx_ang.png',bbox_inches='tight', dpi=300)"
   ]
  },
  {
   "cell_type": "code",
   "execution_count": null,
   "id": "3155e3f4-1c3c-4972-b441-c7e73783f4bf",
   "metadata": {},
   "outputs": [],
   "source": [
    "Abs = (fac*np.exp(-ww*np.pi/1000) + (1-np.exp(-ww*np.pi/1000))*np.abs(geoFws))/fac\n",
    "Pha = (1-np.exp(-ww*np.pi/1000))*np.angle(geoFws)\n",
    "complete_approx = Abs * np.exp(1j * Pha)"
   ]
  },
  {
   "cell_type": "code",
   "execution_count": null,
   "id": "119cb912-8cb7-4aad-9857-b99b7d494462",
   "metadata": {},
   "outputs": [],
   "source": [
    "amplification.plot_freq()"
   ]
  },
  {
   "cell_type": "code",
   "execution_count": null,
   "id": "19fcafa8-6e93-419c-a2a2-f16332dab843",
   "metadata": {},
   "outputs": [],
   "source": [
    "amplification.plot_freq(smooth=False)"
   ]
  },
  {
   "cell_type": "code",
   "execution_count": null,
   "id": "5a2e7cf1-addc-4ba3-a574-a1694c5ba161",
   "metadata": {},
   "outputs": [],
   "source": [
    "plt.plot(ws[:720], np.abs(Fws[:720])/np.sqrt(3))"
   ]
  },
  {
   "cell_type": "code",
   "execution_count": null,
   "id": "1c18326a-7829-46f1-b693-6d872b293467",
   "metadata": {},
   "outputs": [],
   "source": [
    "from bisect import bisect_left\n",
    "i = bisect_left(ws, 60)\n"
   ]
  },
  {
   "cell_type": "code",
   "execution_count": null,
   "id": "c77f7764-6476-447c-84bc-865f5c917a56",
   "metadata": {},
   "outputs": [],
   "source": [
    "i"
   ]
  },
  {
   "cell_type": "code",
   "execution_count": null,
   "id": "19a2a216-7737-494b-81a1-146562ce71db",
   "metadata": {},
   "outputs": [],
   "source": [
    "plt.semilogx(ww,(1-np.exp(-ww*np.pi/1000)))"
   ]
  },
  {
   "cell_type": "code",
   "execution_count": null,
   "id": "3abecce6-30c8-46ab-bbe8-a34182417ddf",
   "metadata": {},
   "outputs": [],
   "source": [
    "plt.semilogx(ww, np.exp(-ww*np.pi/20))"
   ]
  },
  {
   "cell_type": "code",
   "execution_count": null,
   "id": "52e86a14-202e-409f-bc0e-aeadfd5e183e",
   "metadata": {},
   "outputs": [],
   "source": [
    "import pycbc.psd as psd\n",
    "from pycbc.filter.matchedfilter import overlap, match\n",
    "\n",
    "hp, hc = get_fd_waveform(approximant = 'IMRPhenomXPHM',\n",
    "                         mass1 = 30,\n",
    "                         mass2 = 30,\n",
    "                         delta_f = .04,\n",
    "                         f_lower = 10,\n",
    "                         f_final = 2000)\n",
    "dfnoise = 0.04\n",
    "noiselen = int(2001/dfnoise)+1\n",
    "noise2 = psd.analytical.aLIGOaLIGODesignSensitivityT1800044(noiselen, dfnoise, 1)\n",
    "noisef = np.linspace(1, 1 + dfnoise*(noiselen-1), num = noiselen)"
   ]
  },
  {
   "cell_type": "code",
   "execution_count": null,
   "id": "b8482deb-51cf-4116-94c2-82d082b9b7cc",
   "metadata": {},
   "outputs": [],
   "source": [
    "np.savetxt('gf.txt', geofs)\n",
    "np.savetxt('complete.txt', complete_approx)\n",
    "np.savetxt('ws.txt', ws)\n",
    "np.savetxt('Fws.txt', Fws)"
   ]
  },
  {
   "cell_type": "code",
   "execution_count": null,
   "id": "c5a9a7a2-5080-476b-a010-88e23bf2692c",
   "metadata": {},
   "outputs": [],
   "source": [
    "np.savetxt('gwoF.txt', geoFws)"
   ]
  },
  {
   "cell_type": "code",
   "execution_count": null,
   "id": "67edf559-f59b-4eae-951b-409504014cf9",
   "metadata": {},
   "outputs": [],
   "source": [
    "mus, tds, ns"
   ]
  },
  {
   "cell_type": "code",
   "execution_count": null,
   "id": "c5d960af-a0c9-442f-a38d-213a5c30e8cc",
   "metadata": {},
   "outputs": [],
   "source": [
    "Img_ra"
   ]
  },
  {
   "cell_type": "code",
   "execution_count": null,
   "id": "c2fcd9e7-ce60-4ee9-86b5-a140405d4bad",
   "metadata": {},
   "outputs": [],
   "source": [
    "from wolensing.utils.utils import *\n",
    "Morse_indices(amplification._lens_model_list, Img_ra, Img_dec, amplification._kwargs_lens)"
   ]
  },
  {
   "cell_type": "code",
   "execution_count": null,
   "id": "048ea757-70da-44cd-bb96-fc855974665c",
   "metadata": {},
   "outputs": [],
   "source": [
    "plt.plot(geofs, -0.000435*geofs + np.pi - 23/geofs)"
   ]
  },
  {
   "cell_type": "code",
   "execution_count": null,
   "id": "f05ffc0e-c8bd-4f49-a4bb-c10f20f91083",
   "metadata": {},
   "outputs": [],
   "source": []
  }
 ],
 "metadata": {
  "kernelspec": {
   "display_name": "wolensing",
   "language": "python",
   "name": "wolensing"
  },
  "language_info": {
   "codemirror_mode": {
    "name": "ipython",
    "version": 3
   },
   "file_extension": ".py",
   "mimetype": "text/x-python",
   "name": "python",
   "nbconvert_exporter": "python",
   "pygments_lexer": "ipython3",
   "version": "3.10.14"
  }
 },
 "nbformat": 4,
 "nbformat_minor": 5
}
