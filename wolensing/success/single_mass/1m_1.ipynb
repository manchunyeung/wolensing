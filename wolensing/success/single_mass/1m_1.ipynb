{
 "cells": [
  {
   "cell_type": "code",
   "execution_count": 1,
   "id": "57a39193",
   "metadata": {},
   "outputs": [],
   "source": [
    "import numpy as np"
   ]
  },
  {
   "cell_type": "code",
   "execution_count": 2,
   "id": "76905122",
   "metadata": {},
   "outputs": [
    {
     "name": "stdout",
     "output_type": "stream",
     "text": [
      "env: JAX_ENABLE_X64=True\n"
     ]
    }
   ],
   "source": [
    "%env JAX_ENABLE_X64=True"
   ]
  },
  {
   "cell_type": "code",
   "execution_count": 3,
   "id": "7262feed",
   "metadata": {},
   "outputs": [],
   "source": [
    "from lenstronomy.LensModel.lens_model import LensModel\n",
    "import lensinggw.constants.constants as const\n",
    "from lensinggw.utils.utils import TimeDelay, magnifications, getMinMaxSaddle"
   ]
  },
  {
   "cell_type": "code",
   "execution_count": 4,
   "id": "50217574-6602-4464-887c-33c412bd2d55",
   "metadata": {},
   "outputs": [],
   "source": [
    "import sys\n",
    "import os\n",
    "path = os.getcwd()\n",
    "dir = os.path.abspath(os.path.join(path, os.pardir))\n",
    "sys.path.append(dir)"
   ]
  },
  {
   "cell_type": "code",
   "execution_count": 5,
   "id": "901ecbec",
   "metadata": {},
   "outputs": [
    {
     "ename": "ModuleNotFoundError",
     "evalue": "No module named 'plot'",
     "output_type": "error",
     "traceback": [
      "\u001b[0;31m---------------------------------------------------------------------------\u001b[0m",
      "\u001b[0;31mModuleNotFoundError\u001b[0m                       Traceback (most recent call last)",
      "Cell \u001b[0;32mIn[5], line 1\u001b[0m\n\u001b[0;32m----> 1\u001b[0m \u001b[38;5;28;01mfrom\u001b[39;00m \u001b[38;5;21;01mplot\u001b[39;00m\u001b[38;5;21;01m.\u001b[39;00m\u001b[38;5;21;01mplot\u001b[39;00m \u001b[38;5;28;01mimport\u001b[39;00m plot_contour\n\u001b[1;32m      2\u001b[0m \u001b[38;5;28;01mimport\u001b[39;00m \u001b[38;5;21;01mamplification_factor\u001b[39;00m\u001b[38;5;21;01m.\u001b[39;00m\u001b[38;5;21;01mamplification_factor\u001b[39;00m \u001b[38;5;28;01mas\u001b[39;00m \u001b[38;5;21;01maf\u001b[39;00m\n\u001b[1;32m      3\u001b[0m sys\u001b[38;5;241m.\u001b[39mpath\u001b[38;5;241m.\u001b[39mappend(\u001b[38;5;124m'\u001b[39m\u001b[38;5;124m/home/manchun.yeung/microlensing/wolensing_simon/wolensing\u001b[39m\u001b[38;5;124m'\u001b[39m)\n",
      "\u001b[0;31mModuleNotFoundError\u001b[0m: No module named 'plot'"
     ]
    }
   ],
   "source": [
    "from plot.plot import plot_contour\n",
    "import amplification_factor.amplification_factor as af\n",
    "sys.path.append('/home/manchun.yeung/microlensing/wolensing_simon/wolensing')"
   ]
  },
  {
   "cell_type": "markdown",
   "id": "7a2d8fd7",
   "metadata": {},
   "source": [
    "The macroimage where the microlens is placed around."
   ]
  },
  {
   "cell_type": "code",
   "execution_count": null,
   "id": "a6661425",
   "metadata": {},
   "outputs": [],
   "source": [
    "type2 = False"
   ]
  },
  {
   "cell_type": "code",
   "execution_count": null,
   "id": "5f079d0c",
   "metadata": {},
   "outputs": [],
   "source": [
    "ym = 0.8\n",
    "angle = np.radians(float(0))"
   ]
  },
  {
   "cell_type": "markdown",
   "id": "a72db917",
   "metadata": {},
   "source": [
    "Importing constants"
   ]
  },
  {
   "cell_type": "code",
   "execution_count": null,
   "id": "02812c10",
   "metadata": {},
   "outputs": [],
   "source": [
    "G = const.G  # gravitational constant [m^3 kg^-1 s^-2]\n",
    "c = const.c  # speed of light [m/s]\n",
    "M_sun = const.M_sun  # Solar mass [Kg]"
   ]
  },
  {
   "cell_type": "code",
   "execution_count": null,
   "id": "01e050bd",
   "metadata": {},
   "outputs": [],
   "source": [
    "y0, y1 = 0.5, 0 # source position\n",
    "l0, l1 = 0., 0 # lens position\n",
    "\n",
    "zS = 1.0 # source redshift\n",
    "zL = 0.5 # lens redshift"
   ]
  },
  {
   "cell_type": "code",
   "execution_count": null,
   "id": "4176d2f0",
   "metadata": {},
   "outputs": [],
   "source": [
    "mL1 = 1e10\n",
    "mL2 = 20\n",
    "mtot = mL1 + mL2\n",
    "\n",
    "# convert to radians\n",
    "from lensinggw.utils.utils import param_processing\n",
    "thetaE1 = param_processing(zL, zS, mL1)\n",
    "thetaE2 = param_processing(zL, zS, mL2)\n",
    "thetaE = param_processing(zL, zS, mtot)"
   ]
  },
  {
   "cell_type": "code",
   "execution_count": null,
   "id": "f63f056b-7c14-4af6-9ad2-b48abfcaf796",
   "metadata": {},
   "outputs": [],
   "source": [
    "thetaE"
   ]
  },
  {
   "cell_type": "code",
   "execution_count": null,
   "id": "a51bcc16-7e0b-46e3-9041-e8cfd74f3108",
   "metadata": {},
   "outputs": [],
   "source": [
    "Mpc=3.085677581491367e+22\n",
    "from astropy.cosmology import FlatLambdaCDM\n",
    "cosmo = FlatLambdaCDM(H0=69.7, Om0=0.306, Tcmb0=2.725)\n",
    "DL       = cosmo.angular_diameter_distance(zL)\n",
    "DS       = cosmo.angular_diameter_distance(zS)\n",
    "DLS      = cosmo.angular_diameter_distance_z1z2(zL, zS)\n",
    "D        = DLS/(DL*DS)\n",
    "print(np.float64(D/Mpc))"
   ]
  },
  {
   "cell_type": "code",
   "execution_count": null,
   "id": "84bb287a-26f8-40d4-a86c-01aebcb761ab",
   "metadata": {},
   "outputs": [],
   "source": [
    "from utils.utils import Einstein_radius"
   ]
  },
  {
   "cell_type": "code",
   "execution_count": null,
   "id": "ceb1b875-023a-43a1-9578-cbd08c6d3b2e",
   "metadata": {},
   "outputs": [],
   "source": [
    "Einstein_radius(zL, zS, mtot)"
   ]
  },
  {
   "cell_type": "code",
   "execution_count": null,
   "id": "67673902",
   "metadata": {},
   "outputs": [],
   "source": [
    "beta0, beta1 = y0 * thetaE, y1 * thetaE\n",
    "eta10, eta11 = 0 * l0 * thetaE, 0 * l1 * thetaE\n",
    "lens_model_list = ['SIS']\n",
    "kwargs_sis_1 = {'center_x': eta10, 'center_y': eta11, 'theta_E': thetaE1}\n",
    "kwargs_lens_list = [kwargs_sis_1]\n",
    "\n",
    "kwargs_sis_1_scaled = {'center_x': eta10 / thetaE, 'center_y': eta11 / thetaE, 'theta_E': thetaE1 / thetaE}\n",
    "kwargs_lens_list_scaled = [kwargs_sis_1_scaled]\n",
    "\n",
    "from lensinggw.solver.images import microimages\n",
    "solver_kwargs = {'SearchWindowMacro': 10 * thetaE1,\n",
    "                 'SearchWindow': 5 * thetaE2,\n",
    "                 'OverlapDistMacro': 1e-17,\n",
    "                 'OnlyMacro': True}\n",
    "MacroImg_ra, MacroImg_dec, pixel_width = microimages(source_pos_x=beta0,\n",
    "                                                     source_pos_y=beta1,\n",
    "                                                     lens_model_list=lens_model_list,\n",
    "                                                     kwargs_lens=kwargs_lens_list,\n",
    "                                                     **solver_kwargs)\n",
    "\n",
    "Td = TimeDelay(MacroImg_ra, MacroImg_dec,\n",
    "                beta0, beta1,\n",
    "                zL, zS,\n",
    "                lens_model_list, kwargs_lens_list)\n",
    "Mus = magnifications(MacroImg_ra, MacroImg_dec, lens_model_list, kwargs_lens_list)\n",
    "if type2:\n",
    "    microtype = np.nonzero(Td)[0][0]\n",
    "else:\n",
    "    microtype = np.where(Td==0)[0][0]\n",
    "\n",
    "masses = [60]\n",
    "angle = [0]\n",
    "ym = [1]\n",
    "\n",
    "num_points = len(masses)\n",
    "for j in range(0,num_points):\n",
    "    theta_E = param_processing(zL, zS, masses[j])# lens model\n",
    "    #positioning the microlenses\n",
    "    eta20 = MacroImg_ra[microtype] + ym[j]*np.cos(np.radians(angle[j])) * theta_E\n",
    "    eta21 = MacroImg_dec[microtype] + ym[j] * np.sin(np.radians(angle[j])) * theta_E\n",
    "    lens_model_list.append('POINT_MASS')\n",
    "    kwargs_lens_list.append({'center_x': eta20, 'center_y': eta21, 'theta_E': theta_E})\n",
    "\n",
    "# mass_density = 100\n",
    "# from utils.lensing import *\n",
    "# radius = injection_radius(masses, mass_density) #rad\n",
    "# lens_model_list, kwargs_lens_list = field_injection(zL, zS, MacroImg_ra[microtype], MacroImg_dec[microtype], masses, radius, lens_model_list, kwargs_lens_list, seed=1)\n",
    "    \n",
    "# Injecting microlens around desired macroimage\n",
    "# eta20, eta21 = MacroImg_ra[microtype] + np.cos(angle)*ym*thetaE2, MacroImg_dec[microtype] + np.sin(angle)*ym*thetaE2\n",
    "# lens_model_list = ['SIS', 'POINT_MASS']\n",
    "# kwargs_sis_1 = {'center_x': eta10, 'center_y': eta11, 'theta_E': thetaE1}\n",
    "# kwargs_point_mass_2 = {'center_x': eta20, 'center_y': eta21, 'theta_E': thetaE2}\n",
    "# kwargs_lens_list = [kwargs_sis_1, kwargs_point_mass_2]\n",
    "\n",
    "from lensinggw.solver.images import microimages\n",
    "solver_kwargs = {'SearchWindowMacro': 10 * thetaE1,\n",
    "                 'SearchWindow': 40 * thetaE2,\n",
    "                 'Pixels': 5*1e3,\n",
    "                 # 'ImgIndex': 1,\n",
    "                 'Optimization': True,\n",
    "                 'OverlapDist': 1e-18,\n",
    "                 'OverlapDistMacro': 1e-17}\n",
    "solver_kwargs.update({'Improvement' : 0.1})\n",
    "solver_kwargs.update({'MinDist' : 10**(-7)})\n",
    "\n",
    "Img_ra, Img_dec, MacroImg_ra, MacroImg_dec, pixel_width = microimages(source_pos_x=beta0,\n",
    "                                                                      source_pos_y=beta1,\n",
    "                                                                      lens_model_list=lens_model_list,\n",
    "                                                                      kwargs_lens=kwargs_lens_list,\n",
    "                                                                      **solver_kwargs)\n",
    "# Images_dict = {'Source_ra': beta0,\n",
    "#                'Source_dec': beta1,\n",
    "#                'Img_ra': Img_ra,\n",
    "#                'Img_dec': Img_dec,\n",
    "#                'MacroImg_ra': MacroImg_ra,\n",
    "#                'MacroImg_dec': MacroImg_dec,\n",
    "#                'Microlens_ra': [eta20],\n",
    "#                'Microlens_dec': [eta21],\n",
    "#                'thetaE': thetaE}\n",
    "\n",
    "# time delays, magnifications, Morse indices \n",
    "from lensinggw.utils.utils import TimeDelay, magnifications, getMinMaxSaddle\n",
    "from lensinggw.amplification_factor.amplification_factor import geometricalOpticsMagnification\n",
    "tds = TimeDelay(Img_ra, Img_dec,\n",
    "               beta0, beta1,\n",
    "               zL, zS,\n",
    "               lens_model_list, kwargs_lens_list)\n",
    "mus = magnifications(Img_ra, Img_dec, lens_model_list, kwargs_lens_list)\n",
    "ns = getMinMaxSaddle(Img_ra, Img_dec, lens_model_list, kwargs_lens_list, diff = None)\n",
    "print('Time delays (seconds): ', tds)\n",
    "print('magnifications: ', mus)\n",
    "print('Morse indices: ', ns)\n",
    "    \n",
    "lens_model_complete = LensModel(lens_model_list=lens_model_list)\n",
    "T = lens_model_complete.fermat_potential\n",
    "T0 = thetaE ** (-2) * T(Img_ra[microtype], Img_dec[microtype], kwargs_lens_list, beta0, beta1)#[0]\n",
    "if not isinstance(T0, float):\n",
    "    T0 = T0[0]\n",
    "Tscale = 4 * (1 + zL) * mtot * M_sun * G / c ** 3\n",
    "print('T0 = {}'.format(T0))\n",
    "print('Tscale = {}'.format(Tscale))"
   ]
  },
  {
   "cell_type": "code",
   "execution_count": null,
   "id": "45e132bf-56d3-44e6-a799-b9637a5333c1",
   "metadata": {},
   "outputs": [],
   "source": [
    "Img_ra = np.delete(Img_ra, [0])\n",
    "Img_dec = np.delete(Img_dec, [0])"
   ]
  },
  {
   "cell_type": "code",
   "execution_count": null,
   "id": "dfb348ca-b713-4d83-9e55-ab816ddeaaa0",
   "metadata": {},
   "outputs": [],
   "source": [
    "from lenstronomy.LensModel.Solver.lens_equation_solver import LensEquationSolver\n",
    "from lenstronomy.LensModel.lens_model import LensModel\n",
    "lensmodel = LensModel(lens_model_list=lens_model_list)\n",
    "solver = LensEquationSolver(\n",
    "    lensModel = lensmodel\n",
    ")\n",
    "Img_ra, Img_dec = solver.image_position_stochastic(\n",
    "    source_x = beta0,\n",
    "    source_y = beta1,\n",
    "    kwargs_lens = kwargs_lens_list,\n",
    "    # min_distance = 1e-13,\n",
    "    # solver='lenstronomy'\n",
    "    search_window = 20*thetaE2,\n",
    "    # verbose=True,\n",
    "    precision_limit=10**(-17),\n",
    "    x_center = MacroImg_ra[microtype],\n",
    "    y_center= MacroImg_dec[microtype]\n",
    ")"
   ]
  },
  {
   "cell_type": "code",
   "execution_count": null,
   "id": "4535e89f-5dcd-4a54-9947-dc93fe36054e",
   "metadata": {},
   "outputs": [],
   "source": [
    "Img_ra, Img_dec"
   ]
  },
  {
   "cell_type": "code",
   "execution_count": null,
   "id": "79338b8a-84c5-4881-94ea-221039596896",
   "metadata": {},
   "outputs": [],
   "source": [
    "lens_model_complete = LensModel(lens_model_list=lens_model_list)\n",
    "T = lens_model_complete.fermat_potential\n",
    "T0 = thetaE ** (-2) * T(Img_ra[microtype], Img_dec[microtype], kwargs_lens_list, beta0, beta1)#[0]"
   ]
  },
  {
   "cell_type": "code",
   "execution_count": null,
   "id": "60c6180e",
   "metadata": {},
   "outputs": [],
   "source": [
    "import matplotlib.pyplot as plt\n",
    "\n",
    "fig, ax = plt.subplots()\n",
    "plot_contour(ax, lens_model_list, eta10, eta11, 4*thetaE1, kwargs_lens_list, beta0, beta1, MacroImg_ra, MacroImg_dec,\n",
    "                    T0 = T0, Tfac = (thetaE)**(-2), micro=False)\n"
   ]
  },
  {
   "cell_type": "code",
   "execution_count": null,
   "id": "3cba8071",
   "metadata": {},
   "outputs": [],
   "source": [
    "fig1, ax1 = plt.subplots()\n",
    "plot_contour(ax1, lens_model_list, MacroImg_ra[microtype], MacroImg_dec[microtype], 20*thetaE2, kwargs_lens_list, beta0, beta1, Img_ra, Img_dec,\n",
    "                    T0 = T0, Tfac = (thetaE)**(-2), micro=True)"
   ]
  },
  {
   "cell_type": "code",
   "execution_count": null,
   "id": "9a091fff-4e7b-4367-b6e3-755927517520",
   "metadata": {},
   "outputs": [],
   "source": [
    "from lenstronomy.LensModel.lens_model_extensions import LensModelExtensions\n",
    "# lens_model_list = ['POINT_MASS']\n",
    "lens_model_complete = LensModel(lens_model_list=lens_model_list)\n",
    "lensmodelext = LensModelExtensions(lens_model_complete)\n",
    "ra_crit_list, dec_crit_list = lensmodelext.critical_curve_tiling(kwargs_lens_list, compute_window=10*thetaE2, start_scale = thetaE2/100, center_x=MacroImg_ra[1], center_y=MacroImg_dec[1])\n",
    "ra_caustic_list, dec_caustic_list = lens_model_complete.ray_shooting(ra_crit_list, dec_crit_list, kwargs_lens_list)\n",
    "macro_srcx, macro_srcy = lens_model_complete.ray_shooting(MacroImg_ra, MacroImg_dec, kwargs_lens_list)\n",
    "lens_srcx, lens_srcy = lens_model_complete.ray_shooting(eta20, eta21, kwargs_lens_list)"
   ]
  },
  {
   "cell_type": "code",
   "execution_count": null,
   "id": "29467561-c84e-44a9-bc10-6f88bb2556aa",
   "metadata": {},
   "outputs": [],
   "source": [
    "macro_srcx"
   ]
  },
  {
   "cell_type": "code",
   "execution_count": null,
   "id": "6f0784db-8491-446c-9c0c-9ff43e1922c7",
   "metadata": {},
   "outputs": [],
   "source": [
    "plt.scatter(ra_caustic_list, dec_caustic_list, s=1)\n",
    "plt.scatter(macro_srcx, macro_srcy)\n",
    "plt.scatter(lens_srcx, lens_srcy)"
   ]
  },
  {
   "cell_type": "code",
   "execution_count": null,
   "id": "d4f1feca-cd82-45c9-834f-2a7758c4441b",
   "metadata": {},
   "outputs": [],
   "source": [
    "Tscale = 4 * (1 + zL) * mtot * M_sun * G / c ** 3\n"
   ]
  },
  {
   "cell_type": "code",
   "execution_count": null,
   "id": "9bd586e0",
   "metadata": {},
   "outputs": [],
   "source": [
    "# Define the characteristic WindowSize\n",
    "mL3 = 10\n",
    "thetaE3 = param_processing(zL, zS, mL3)"
   ]
  },
  {
   "cell_type": "code",
   "execution_count": null,
   "id": "227ea166-c507-4d5b-ae5b-be2eabddbbf0",
   "metadata": {},
   "outputs": [],
   "source": [
    "import time"
   ]
  },
  {
   "cell_type": "code",
   "execution_count": null,
   "id": "e8a3acf6-64c6-4ea4-82e6-08b25aa10da7",
   "metadata": {},
   "outputs": [],
   "source": [
    "kwargs_macro = {'source_pos_x': beta0,\n",
    "                'source_pos_y': beta1,\n",
    "                'theta_E': thetaE,\n",
    "                'mu': np.abs(Mus[microtype]),\n",
    "               }\n",
    "\n",
    "kwargs_integrator = {'PixelNum': int(40000),\n",
    "                     'PixelBlockMax': 2000,\n",
    "                     'WindowSize': 2.*210*thetaE3,\n",
    "                     'WindowCenterX': MacroImg_ra[microtype],\n",
    "                     'WindowCenterY': MacroImg_dec[microtype],\n",
    "                     'T0': T0,\n",
    "                     'TimeStep': 1e-5/Tscale, \n",
    "                     'TimeMax': T0 + .7/Tscale,\n",
    "                     'TimeMin': T0 - .1/Tscale,\n",
    "                     'TimeLength': .8/Tscale,\n",
    "                     'TExtend': 10/Tscale,\n",
    "                     'LastImageT': .02/Tscale,\n",
    "                     'Tbuffer': .1/Tscale,\n",
    "                     'Tscale': Tscale}\n",
    "\n",
    "\n",
    "amplification = af.amplification_factor(lens_model_list=lens_model_list, kwargs_lens=kwargs_lens_list, kwargs_macro=kwargs_macro, **kwargs_integrator)\n",
    "ts, Ft = amplification.integrator(gpu=False)\n",
    "ws, Fws = amplification.fourier()\n",
    "amplification.plot_freq()"
   ]
  },
  {
   "cell_type": "code",
   "execution_count": null,
   "id": "2c995db7-9a3b-4592-b4fb-9bc5ff4b663c",
   "metadata": {},
   "outputs": [],
   "source": [
    "plt.plot(ts, Ft)"
   ]
  },
  {
   "cell_type": "code",
   "execution_count": null,
   "id": "20cbe386-d62e-4780-8d5a-eaf256669ee9",
   "metadata": {},
   "outputs": [],
   "source": [
    "amplification.plot_freq(smooth=False)"
   ]
  },
  {
   "cell_type": "code",
   "execution_count": null,
   "id": "56520cb5-fabf-4d47-b97a-c2419da71700",
   "metadata": {},
   "outputs": [],
   "source": [
    "amplification.plot_freq(pha=True, smooth=False)"
   ]
  },
  {
   "cell_type": "markdown",
   "id": "9b9a1a8d-96b4-4db3-b9c1-e944715bee99",
   "metadata": {},
   "source": [
    "# Geometrical optics\n",
    "To get the geometrical optics around type 1 image, we need the magnifications, time delay and the image positions of the microimages"
   ]
  },
  {
   "cell_type": "code",
   "execution_count": null,
   "id": "e6063307-a3ce-42d0-8aa4-ab0c06f1764d",
   "metadata": {},
   "outputs": [],
   "source": [
    "tds = TimeDelay(Img_ra, Img_dec,\n",
    "               beta0, beta1,\n",
    "               zL, zS,\n",
    "               lens_model_list, kwargs_lens_list)\n",
    "mus = magnifications(Img_ra, Img_dec, lens_model_list, kwargs_lens_list)\n",
    "ns = getMinMaxSaddle(Img_ra, Img_dec, lens_model_list, kwargs_lens_list, diff = None)"
   ]
  },
  {
   "cell_type": "code",
   "execution_count": null,
   "id": "60e8e7dc-189d-473c-aae8-ca1394d3ad42",
   "metadata": {},
   "outputs": [],
   "source": [
    "mus"
   ]
  },
  {
   "cell_type": "code",
   "execution_count": null,
   "id": "64262d5e-ec11-4fc3-98d6-afd87e04c9f9",
   "metadata": {},
   "outputs": [],
   "source": [
    "tds"
   ]
  },
  {
   "cell_type": "code",
   "execution_count": null,
   "id": "f8bdcf53-f1ff-4664-b8e2-52f509f24ea4",
   "metadata": {},
   "outputs": [],
   "source": [
    "geofs, geoFws = amplification.geometrical_optics(mus, tds, Img_ra, Img_dec, upper_lim=2000)"
   ]
  },
  {
   "cell_type": "code",
   "execution_count": null,
   "id": "7c3b3688-0893-4073-865c-b91a4cf22007",
   "metadata": {},
   "outputs": [],
   "source": [
    "plt.semilogx(geofs, np.abs(geoFws))"
   ]
  },
  {
   "cell_type": "code",
   "execution_count": null,
   "id": "146e69e6-fb9a-4a49-b86a-156acb569170",
   "metadata": {},
   "outputs": [],
   "source": [
    "plt.semilogx(geofs, np.angle(geoFws))"
   ]
  },
  {
   "cell_type": "markdown",
   "id": "7fa9c5fb-d6de-4cd1-b567-9c663cce8d3a",
   "metadata": {},
   "source": [
    "# Full amplification factor concatenated with geometrical optics\n",
    "Given the computaional cost of the diffraction integral, we concatenate the result of wave optics at low frequency and geometrical optics at high frequency to obtain a full amplification factor with default upper bound of 3000Hz."
   ]
  },
  {
   "cell_type": "code",
   "execution_count": null,
   "id": "d2f9f748-c126-4599-b42c-61526dd97247",
   "metadata": {},
   "outputs": [],
   "source": [
    "fullfs, fullFws = amplification.concatenate()\n",
    "plt.semilogx(fullfs, np.abs(fullFws))"
   ]
  },
  {
   "cell_type": "code",
   "execution_count": null,
   "id": "c9c91898-608d-4845-947d-5879e090b756",
   "metadata": {},
   "outputs": [],
   "source": [
    "plt.semilogx(fullfs, np.angle(fullFws))"
   ]
  },
  {
   "cell_type": "code",
   "execution_count": null,
   "id": "35e138a8-344c-4ac3-b05a-9ff16aa49b6a",
   "metadata": {},
   "outputs": [],
   "source": [
    "fac = np.sqrt(np.abs(Mus[microtype]))"
   ]
  },
  {
   "cell_type": "code",
   "execution_count": null,
   "id": "c5d94fd4-5346-4036-9847-846b630e6d55",
   "metadata": {},
   "outputs": [],
   "source": [
    "plt.clf()\n",
    "plt.rc('text', usetex=True)\n",
    "plt.rc('font', family='serif')"
   ]
  },
  {
   "cell_type": "code",
   "execution_count": null,
   "id": "c05015e6-b2f9-46cf-bd54-0de6fcce2ffa",
   "metadata": {},
   "outputs": [],
   "source": [
    "from bisect import bisect_left\n",
    "low_index = bisect_left(geofs, 1)\n",
    "geofs = geofs[low_index:]\n",
    "geoFws = geoFws[low_index:]\n",
    "ws = ws[low_index:]\n",
    "Fws = Fws[low_index:]"
   ]
  },
  {
   "cell_type": "code",
   "execution_count": null,
   "id": "bd63c1e3-1be0-409a-84cc-c8a3b7539b95",
   "metadata": {},
   "outputs": [],
   "source": [
    "ww = geofs\n",
    "plt.semilogx(geofs, (fac*np.exp(-ww*np.pi/188) + (1-np.exp(-ww*np.pi/188))*np.abs(geoFws))/fac, label='Approximation')\n",
    "plt.semilogx(geofs, np.abs(geoFws)/fac,label=r'$F_{geo}$')\n",
    "plt.semilogx(ws, np.abs(Fws)/fac, label=r'$F_{wave}$')\n",
    "plt.ylabel(r'$|F|/\\sqrt{\\mu}$')\n",
    "plt.xlabel(r'$f$')\n",
    "plt.grid(which='both', alpha=0.5)\n",
    "plt.legend()\n",
    "plt.xlim(1, 2000)\n",
    "# plt.savefig('./approx.png',bbox_inches='tight', dpi=300)"
   ]
  },
  {
   "cell_type": "code",
   "execution_count": null,
   "id": "f47c8206-9b1c-45eb-872b-596113b2db0a",
   "metadata": {},
   "outputs": [],
   "source": [
    "plt.semilogx(geofs, (1-np.exp(-ww*np.pi/37.5))*np.angle(geoFws), label='Approximation')\n",
    "plt.semilogx(geofs, np.angle(geoFws),label=r'$F_{geo}$')\n",
    "plt.semilogx(ws, np.angle(Fws), label=r'$F_{wave}$')\n",
    "plt.ylabel(r'$args(F)$')\n",
    "plt.xlabel(r'$f$')\n",
    "plt.grid(which='both', alpha=0.5)\n",
    "plt.legend()\n",
    "plt.xlim(1, 2000)\n",
    "# plt.savefig('./approx_ang.png',bbox_inches='tight', dpi=300)"
   ]
  },
  {
   "cell_type": "code",
   "execution_count": null,
   "id": "3155e3f4-1c3c-4972-b441-c7e73783f4bf",
   "metadata": {},
   "outputs": [],
   "source": [
    "Abs = (fac*np.exp(-ww*np.pi/1000) + (1-np.exp(-ww*np.pi/1000))*np.abs(geoFws))/fac\n",
    "Pha = (1-np.exp(-ww*np.pi/1000))*np.angle(geoFws)\n",
    "complete_approx = Abs * np.exp(1j * Pha)"
   ]
  },
  {
   "cell_type": "code",
   "execution_count": null,
   "id": "119cb912-8cb7-4aad-9857-b99b7d494462",
   "metadata": {},
   "outputs": [],
   "source": [
    "amplification.plot_freq()"
   ]
  },
  {
   "cell_type": "code",
   "execution_count": null,
   "id": "19fcafa8-6e93-419c-a2a2-f16332dab843",
   "metadata": {},
   "outputs": [],
   "source": [
    "amplification.plot_freq(smooth=False)"
   ]
  },
  {
   "cell_type": "code",
   "execution_count": null,
   "id": "5a2e7cf1-addc-4ba3-a574-a1694c5ba161",
   "metadata": {},
   "outputs": [],
   "source": [
    "plt.plot(ws[:720], np.abs(Fws[:720])/np.sqrt(3))"
   ]
  },
  {
   "cell_type": "code",
   "execution_count": null,
   "id": "1c18326a-7829-46f1-b693-6d872b293467",
   "metadata": {},
   "outputs": [],
   "source": [
    "from bisect import bisect_left\n",
    "i = bisect_left(ws, 60)\n"
   ]
  },
  {
   "cell_type": "code",
   "execution_count": null,
   "id": "c77f7764-6476-447c-84bc-865f5c917a56",
   "metadata": {},
   "outputs": [],
   "source": [
    "i"
   ]
  },
  {
   "cell_type": "code",
   "execution_count": null,
   "id": "19a2a216-7737-494b-81a1-146562ce71db",
   "metadata": {},
   "outputs": [],
   "source": [
    "plt.semilogx(ww,(1-np.exp(-ww*np.pi/1000)))"
   ]
  },
  {
   "cell_type": "code",
   "execution_count": null,
   "id": "3abecce6-30c8-46ab-bbe8-a34182417ddf",
   "metadata": {},
   "outputs": [],
   "source": [
    "plt.semilogx(ww, np.exp(-ww*np.pi/20))"
   ]
  },
  {
   "cell_type": "code",
   "execution_count": null,
   "id": "52e86a14-202e-409f-bc0e-aeadfd5e183e",
   "metadata": {},
   "outputs": [],
   "source": [
    "import pycbc.psd as psd\n",
    "from pycbc.filter.matchedfilter import overlap, match\n",
    "\n",
    "hp, hc = get_fd_waveform(approximant = 'IMRPhenomXPHM',\n",
    "                         mass1 = 30,\n",
    "                         mass2 = 30,\n",
    "                         delta_f = .04,\n",
    "                         f_lower = 10,\n",
    "                         f_final = 2000)\n",
    "dfnoise = 0.04\n",
    "noiselen = int(2001/dfnoise)+1\n",
    "noise2 = psd.analytical.aLIGOaLIGODesignSensitivityT1800044(noiselen, dfnoise, 1)\n",
    "noisef = np.linspace(1, 1 + dfnoise*(noiselen-1), num = noiselen)"
   ]
  },
  {
   "cell_type": "code",
   "execution_count": null,
   "id": "b8482deb-51cf-4116-94c2-82d082b9b7cc",
   "metadata": {},
   "outputs": [],
   "source": [
    "np.savetxt('gf.txt', geofs)\n",
    "np.savetxt('complete.txt', complete_approx)\n",
    "np.savetxt('ws.txt', ws)\n",
    "np.savetxt('Fws.txt', Fws)"
   ]
  },
  {
   "cell_type": "code",
   "execution_count": null,
   "id": "c5a9a7a2-5080-476b-a010-88e23bf2692c",
   "metadata": {},
   "outputs": [],
   "source": [
    "np.savetxt('gwoF.txt', geoFws)"
   ]
  },
  {
   "cell_type": "code",
   "execution_count": null,
   "id": "67edf559-f59b-4eae-951b-409504014cf9",
   "metadata": {},
   "outputs": [],
   "source": [
    "mus, tds, ns"
   ]
  },
  {
   "cell_type": "code",
   "execution_count": null,
   "id": "c5d960af-a0c9-442f-a38d-213a5c30e8cc",
   "metadata": {},
   "outputs": [],
   "source": [
    "Img_ra"
   ]
  },
  {
   "cell_type": "code",
   "execution_count": null,
   "id": "c2fcd9e7-ce60-4ee9-86b5-a140405d4bad",
   "metadata": {},
   "outputs": [],
   "source": [
    "from wolensing.utils.utils import *\n",
    "Morse_indices(amplification._lens_model_list, Img_ra, Img_dec, amplification._kwargs_lens)"
   ]
  },
  {
   "cell_type": "code",
   "execution_count": null,
   "id": "048ea757-70da-44cd-bb96-fc855974665c",
   "metadata": {},
   "outputs": [],
   "source": [
    "plt.plot(geofs, -0.000435*geofs + np.pi - 23/geofs)"
   ]
  },
  {
   "cell_type": "code",
   "execution_count": null,
   "id": "f05ffc0e-c8bd-4f49-a4bb-c10f20f91083",
   "metadata": {},
   "outputs": [],
   "source": []
  }
 ],
 "metadata": {
  "kernelspec": {
   "display_name": "wolensing",
   "language": "python",
   "name": "wolensing"
  },
  "language_info": {
   "codemirror_mode": {
    "name": "ipython",
    "version": 3
   },
   "file_extension": ".py",
   "mimetype": "text/x-python",
   "name": "python",
   "nbconvert_exporter": "python",
   "pygments_lexer": "ipython3",
   "version": "3.10.14"
  }
 },
 "nbformat": 4,
 "nbformat_minor": 5
}
