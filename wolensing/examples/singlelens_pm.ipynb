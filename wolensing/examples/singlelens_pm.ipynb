{
 "cells": [
  {
   "cell_type": "code",
   "execution_count": 1,
   "metadata": {},
   "outputs": [],
   "source": [
    "import sys\n",
    "import os\n",
    "path = os.getcwd()\n",
    "dir = os.path.abspath(os.path.join(path, os.pardir))\n",
    "sys.path.append(dir)"
   ]
  },
  {
   "cell_type": "code",
   "execution_count": 2,
   "metadata": {},
   "outputs": [],
   "source": [
    "import numpy as np"
   ]
  },
  {
   "cell_type": "code",
   "execution_count": 3,
   "metadata": {},
   "outputs": [],
   "source": [
    "from lenstronomy.LensModel.lens_model import LensModel\n",
    "import lensinggw.constants.constants as const"
   ]
  },
  {
   "cell_type": "code",
   "execution_count": 4,
   "metadata": {},
   "outputs": [],
   "source": [
    "from plot.plot import plot_contour\n",
    "import amplification_factor.amplification_factor as af"
   ]
  },
  {
   "cell_type": "code",
   "execution_count": 5,
   "metadata": {},
   "outputs": [],
   "source": [
    "G = const.G  # gravitational constant [m^3 kg^-1 s^-2]\n",
    "c = const.c  # speed of light [m/s]\n",
    "M_sun = const.M_sun  # Solar mass [Kg]"
   ]
  },
  {
   "cell_type": "markdown",
   "metadata": {},
   "source": [
    "coordinates in scaled units [x (radians) /thetaE_tot]"
   ]
  },
  {
   "cell_type": "code",
   "execution_count": 6,
   "metadata": {},
   "outputs": [],
   "source": [
    "y0, y1 = 0.5, 0 # source position\n",
    "l0, l1 = 0., 0 # lens position\n",
    "\n",
    "zS = 1.0 # source redshift\n",
    "zL = 0.5 # lens redshift"
   ]
  },
  {
   "cell_type": "code",
   "execution_count": 7,
   "metadata": {},
   "outputs": [],
   "source": [
    "mL1 = 100\n",
    "\n",
    "# convert to radians\n",
    "from lensinggw.utils.utils import param_processing\n",
    "thetaE = param_processing(zL, zS, mL1)"
   ]
  },
  {
   "cell_type": "code",
   "execution_count": 8,
   "metadata": {},
   "outputs": [],
   "source": [
    "beta0, beta1 = y0 * thetaE, y1 * thetaE\n",
    "eta10, eta11 = 0 * l0 * thetaE, 0 * l1 * thetaE"
   ]
  },
  {
   "cell_type": "code",
   "execution_count": 9,
   "metadata": {},
   "outputs": [],
   "source": [
    "lens_model_list = ['POINT_MASS']\n",
    "kwargs_sis_1 = {'center_x': eta10, 'center_y': eta11, 'theta_E': thetaE}\n",
    "kwargs_lens_list = [kwargs_sis_1]"
   ]
  },
  {
   "cell_type": "code",
   "execution_count": 10,
   "metadata": {},
   "outputs": [],
   "source": [
    "kwargs_sis_1_scaled = {'center_x': eta10 / thetaE, 'center_y': eta11 / thetaE, 'theta_E': thetaE / thetaE}\n",
    "kwargs_lens_list_scaled = [kwargs_sis_1_scaled]"
   ]
  },
  {
   "cell_type": "code",
   "execution_count": 11,
   "metadata": {},
   "outputs": [
    {
     "name": "stdout",
     "output_type": "stream",
     "text": [
      "T0 = 57.68962732485115\n",
      "Tscale = 0.0029552946153261453\n"
     ]
    }
   ],
   "source": [
    "lens_model_complete = LensModel(lens_model_list=lens_model_list)\n",
    "T = lens_model_complete.fermat_potential\n",
    "T0 = thetaE ** (-2) * T(eta10, eta11, kwargs_lens_list, beta0, beta1)#[0]\n",
    "Tscale = 4 * (1 + zL) * mL1 * M_sun * G / c ** 3\n",
    "print('T0 = {}'.format(T0))\n",
    "print('Tscale = {}'.format(Tscale))"
   ]
  },
  {
   "cell_type": "code",
   "execution_count": 12,
   "metadata": {},
   "outputs": [],
   "source": [
    "kwargs_macro = {'source_pos_x': beta0,\n",
    "                'source_pos_y': beta1,\n",
    "                'theta_E': thetaE\n",
    "               }"
   ]
  },
  {
   "cell_type": "code",
   "execution_count": 13,
   "metadata": {},
   "outputs": [],
   "source": [
    "# Define the characteristic WindowSize\n",
    "mL2 = 10\n",
    "thetaE2 = param_processing(zL, zS, mL2)\n",
    "\n",
    "kwargs_integrator = {'PixelNum': int(20000),          # Number of pixels on each side of the window\n",
    "                     'PixelBlockMax': 2000,           # Dividing PixelNum into PixelBlock\n",
    "                     'WindowSize': 210*thetaE2, \n",
    "                     'WindowCenterX': eta10, \n",
    "                     'WindowCenterY': eta11,\n",
    "                     'T0': T0,                        # Time delay of the reference point (WindowCenter)\n",
    "                     'TimeStep': 1e-5/Tscale,         # integration step in time domain\n",
    "                     'TimeMax': T0 + 1/Tscale,        # Upper bound of time integration\n",
    "                     'TimeMin': T0 - .1/Tscale,       # Lower bound of time integration\n",
    "                     'TimeLength': 4/Tscale,          \n",
    "                     'TExtend': 10/Tscale,            # Extend the time domain curve to desired time. In this example, it is extended to T0+10 seconds \n",
    "                     'Tscale': Tscale}                "
   ]
  },
  {
   "cell_type": "code",
   "execution_count": 14,
   "metadata": {},
   "outputs": [
    {
     "name": "stdout",
     "output_type": "stream",
     "text": [
      "bin 23.85205340535073 396.07213403463925\n",
      "start\n"
     ]
    },
    {
     "name": "stderr",
     "output_type": "stream",
     "text": [
      "Integrating...: 100%|██████████| 121/121 [00:55<00:00,  2.16it/s]\n"
     ]
    },
    {
     "name": "stdout",
     "output_type": "stream",
     "text": [
      "0 1 110001\n",
      "total time 13.99999\n"
     ]
    },
    {
     "data": {
      "text/plain": [
       "<Figure size 432x288 with 0 Axes>"
      ]
     },
     "metadata": {},
     "output_type": "display_data"
    },
    {
     "data": {
      "image/png": "[encoded data removed]",
      "text/plain": [
       "<Figure size 432x288 with 1 Axes>"
      ]
     },
     "metadata": {
      "needs_background": "light"
     },
     "output_type": "display_data"
    },
    {
     "data": {
      "text/plain": [
       "<AxesSubplot:xlabel='Frequency (Hz)', ylabel='$|F|/\\\\sqrt{\\\\mu}$'>"
      ]
     },
     "execution_count": 14,
     "metadata": {},
     "output_type": "execute_result"
    }
   ],
   "source": [
    "amplification = af.amplification_factor(lens_model_list=lens_model_list, kwargs_lens=kwargs_lens_list, kwargs_macro=kwargs_macro, **kwargs_integrator)\n",
    "ts, F_tilde = amplification.integrator(gpu=False)\n",
    "ws, Fws = amplification.fourier()\n",
    "amplification.plot_freq()"
   ]
  },
  {
   "cell_type": "code",
   "execution_count": 16,
   "metadata": {},
   "outputs": [
    {
     "name": "stdout",
     "output_type": "stream",
     "text": [
      "\n",
      "---- Will perform only the macromodel analysis ----\n",
      "\n",
      "---- Solver settings ----\n",
      "\n",
      "The macromodel analysis will be performed with the following settings:\n",
      "\n",
      "OnlyMacro         --> True\n",
      "Scaled            --> False\n",
      "SearchWindowMacro --> 8.052888061582409e-10\n",
      "PixelsMacro       --> 1000\n",
      "PrecisionLimit    --> 1e-20\n",
      "OverlapDistMacro  --> 1e-17\n",
      "NearSource        --> False\n",
      "Optimization      --> False\n",
      "Verbose           --> False\n",
      "\n",
      "\n",
      "\n",
      "\n",
      "MACROIMAGES\n",
      "\n",
      "ra: [-6.2875050e-11  1.0313949e-10]\n",
      "dec: [-8.15724348e-26 -8.15724348e-26]\n",
      "\n"
     ]
    }
   ],
   "source": [
    "from lensinggw.solver.images import microimages\n",
    "\n",
    "solver_kwargs = {'SearchWindowMacro': 10 * thetaE,\n",
    "                 'SearchWindow': 5 * thetaE2,\n",
    "                 'OverlapDistMacro': 1e-17,\n",
    "                 'OnlyMacro': True}\n",
    "\n",
    "MacroImg_ra, MacroImg_dec, pixel_width = microimages(source_pos_x=beta0,\n",
    "                                                     source_pos_y=beta1,\n",
    "                                                     lens_model_list=lens_model_list,\n",
    "                                                     kwargs_lens=kwargs_lens_list,\n",
    "                                                     **solver_kwargs)\n"
   ]
  },
  {
   "cell_type": "code",
   "execution_count": 18,
   "metadata": {},
   "outputs": [],
   "source": [
    "from lensinggw.utils.utils import TimeDelay, magnifications, getMinMaxSaddle\n",
    "\n",
    "Macromus = magnifications(MacroImg_ra, MacroImg_dec, lens_model_list, kwargs_lens_list)\n",
    "T01 = TimeDelay(MacroImg_ra, MacroImg_dec,\n",
    "                beta0, beta1,\n",
    "                zL, zS,\n",
    "                lens_model_list, kwargs_lens_list)"
   ]
  },
  {
   "cell_type": "code",
   "execution_count": 19,
   "metadata": {},
   "outputs": [
    {
     "data": {
      "text/plain": [
       "array([-0.59141031,  1.59141031])"
      ]
     },
     "execution_count": 19,
     "metadata": {},
     "output_type": "execute_result"
    }
   ],
   "source": [
    "Macromus"
   ]
  },
  {
   "cell_type": "code",
   "execution_count": 20,
   "metadata": {},
   "outputs": [
    {
     "data": {
      "text/plain": [
       "array([0.0029858, 0.       ])"
      ]
     },
     "execution_count": 20,
     "metadata": {},
     "output_type": "execute_result"
    }
   ],
   "source": [
    "T01"
   ]
  },
  {
   "cell_type": "code",
   "execution_count": 21,
   "metadata": {},
   "outputs": [],
   "source": [
    "ns = getMinMaxSaddle(MacroImg_ra, MacroImg_dec, lens_model_list, kwargs_lens_list, diff = None)"
   ]
  },
  {
   "cell_type": "code",
   "execution_count": 31,
   "metadata": {},
   "outputs": [],
   "source": [
    "ns = [0.5,0]"
   ]
  },
  {
   "cell_type": "code",
   "execution_count": 23,
   "metadata": {},
   "outputs": [],
   "source": [
    "freq = np.linspace(10,2000,2000)"
   ]
  },
  {
   "cell_type": "code",
   "execution_count": 24,
   "metadata": {},
   "outputs": [
    {
     "data": {
      "text/plain": [
       "array([  10.        ,   10.99549775,   11.9909955 , ..., 1998.0090045 ,\n",
       "       1999.00450225, 2000.        ])"
      ]
     },
     "execution_count": 24,
     "metadata": {},
     "output_type": "execute_result"
    }
   ],
   "source": [
    "freq"
   ]
  },
  {
   "cell_type": "code",
   "execution_count": 32,
   "metadata": {},
   "outputs": [
    {
     "name": "stderr",
     "output_type": "stream",
     "text": [
      "/home/manchun.yeung/microlensing/env/lib64/python3.6/site-packages/numpy/core/_asarray.py:83: ComplexWarning: Casting complex values to real discards the imaginary part\n",
      "  return array(a, dtype, copy=False, order=order)\n"
     ]
    },
    {
     "data": {
      "text/plain": [
       "[<matplotlib.lines.Line2D at 0x7f4293cb1be0>]"
      ]
     },
     "execution_count": 32,
     "metadata": {},
     "output_type": "execute_result"
    },
    {
     "data": {
      "image/png": "[encoded data removed]",
      "text/plain": [
       "<Figure size 432x288 with 1 Axes>"
      ]
     },
     "metadata": {
      "needs_background": "light"
     },
     "output_type": "display_data"
    }
   ],
   "source": [
    "from lensinggw.amplification_factor.amplification_factor import amplification_from_data\n",
    "Fmag = amplification_from_data(freq, Macromus, T01, ns)\n",
    "import matplotlib.pyplot as plt\n",
    "plt.semilogx(freq, Fmag)"
   ]
  },
  {
   "cell_type": "code",
   "execution_count": null,
   "metadata": {},
   "outputs": [],
   "source": []
  }
 ],
 "metadata": {
  "kernelspec": {
   "display_name": "wolensing",
   "language": "python",
   "name": "wolensing"
  },
  "language_info": {
   "codemirror_mode": {
    "name": "ipython",
    "version": 3
   },
   "file_extension": ".py",
   "mimetype": "text/x-python",
   "name": "python",
   "nbconvert_exporter": "python",
   "pygments_lexer": "ipython3",
   "version": "3.6.8"
  }
 },
 "nbformat": 4,
 "nbformat_minor": 4
}
