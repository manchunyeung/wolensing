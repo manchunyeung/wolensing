{
 "cells": [
  {
   "cell_type": "code",
   "execution_count": 20,
   "id": "d84066ab-0f26-4e84-a363-c857d8f52cc3",
   "metadata": {},
   "outputs": [],
   "source": [
    "import jax.numpy as jnp\n",
    "import numpy as np"
   ]
  },
  {
   "cell_type": "code",
   "execution_count": 21,
   "id": "72f6fad4-09fa-4baf-b41b-23d6fa995cc9",
   "metadata": {},
   "outputs": [],
   "source": [
    "a = np.array([0.1,0.4,0.5,2,3,5])\n",
    "b = np.where(a<1, a, 2*a)"
   ]
  },
  {
   "cell_type": "code",
   "execution_count": 22,
   "id": "998de1a7-3e58-47fa-bd16-2742a6be99cc",
   "metadata": {},
   "outputs": [
    {
     "data": {
      "text/plain": [
       "array([ 0.1,  0.4,  0.5,  4. ,  6. , 10. ])"
      ]
     },
     "execution_count": 22,
     "metadata": {},
     "output_type": "execute_result"
    }
   ],
   "source": [
    "b"
   ]
  },
  {
   "cell_type": "code",
   "execution_count": 23,
   "id": "5db12bee-a3f3-44ff-921b-d16931291f1f",
   "metadata": {},
   "outputs": [
    {
     "data": {
      "text/plain": [
       "array([0.1, 0.4, 0.5, 2. , 3. , 5. ])"
      ]
     },
     "execution_count": 23,
     "metadata": {},
     "output_type": "execute_result"
    }
   ],
   "source": [
    "a"
   ]
  },
  {
   "cell_type": "code",
   "execution_count": 24,
   "id": "18422447-cb6e-440b-ad77-c7e2fd4162fd",
   "metadata": {},
   "outputs": [],
   "source": [
    "c = np.linalg.norm(a)"
   ]
  },
  {
   "cell_type": "code",
   "execution_count": 25,
   "id": "151ca844-c6d3-4fc3-81c0-0b8171b3523d",
   "metadata": {},
   "outputs": [
    {
     "data": {
      "text/plain": [
       "6.198386886924694"
      ]
     },
     "execution_count": 25,
     "metadata": {},
     "output_type": "execute_result"
    }
   ],
   "source": [
    "c"
   ]
  },
  {
   "cell_type": "code",
   "execution_count": 26,
   "id": "a1b676d7-525c-4035-ba5c-2e2cab34d2a1",
   "metadata": {},
   "outputs": [],
   "source": [
    "a = 2"
   ]
  },
  {
   "cell_type": "code",
   "execution_count": 27,
   "id": "c3981c22-55d4-4d58-8554-76c8d9b3ba01",
   "metadata": {},
   "outputs": [],
   "source": [
    "c = np.linalg.norm(a)"
   ]
  },
  {
   "cell_type": "code",
   "execution_count": 28,
   "id": "39c5df3f-29b8-475e-9adc-158ede9c8cf5",
   "metadata": {},
   "outputs": [
    {
     "data": {
      "text/plain": [
       "2.0"
      ]
     },
     "execution_count": 28,
     "metadata": {},
     "output_type": "execute_result"
    }
   ],
   "source": [
    "c"
   ]
  },
  {
   "cell_type": "code",
   "execution_count": 29,
   "id": "170aac81-127b-40cb-aaf6-741c49fb4229",
   "metadata": {},
   "outputs": [],
   "source": [
    "a = np.array([[0.1,0.4,0.5,2,3,5], [1,2,3,4,5,6]])"
   ]
  },
  {
   "cell_type": "code",
   "execution_count": 34,
   "id": "6d2ec3f3-b8fb-4f3e-820b-05f0a2c0f189",
   "metadata": {},
   "outputs": [],
   "source": [
    "c = np.linalg.norm(a, axis=0)"
   ]
  },
  {
   "cell_type": "code",
   "execution_count": 37,
   "id": "8ebbe875-a478-4c75-840a-cf6993de709f",
   "metadata": {},
   "outputs": [],
   "source": [
    "d = np.ones(c.shape)"
   ]
  },
  {
   "cell_type": "code",
   "execution_count": 38,
   "id": "46df8d94-c8bb-49ca-a693-bfa00d4081b5",
   "metadata": {},
   "outputs": [],
   "source": [
    "x_hi = jnp.where(c<1, 2*d, c)"
   ]
  },
  {
   "cell_type": "code",
   "execution_count": 39,
   "id": "acd9757e-24c8-4b18-84b5-46ffd5e404ff",
   "metadata": {},
   "outputs": [
    {
     "data": {
      "text/plain": [
       "DeviceArray([1.0049876, 2.0396078, 3.0413814, 4.472136 , 5.8309517,\n",
       "             7.81025  ], dtype=float32)"
      ]
     },
     "execution_count": 39,
     "metadata": {},
     "output_type": "execute_result"
    }
   ],
   "source": [
    "x_hi"
   ]
  },
  {
   "cell_type": "code",
   "execution_count": null,
   "id": "b3cdbdea-2ec5-432d-8e3b-7511b6f0f7bc",
   "metadata": {},
   "outputs": [],
   "source": []
  }
 ],
 "metadata": {
  "kernelspec": {
   "display_name": "wolensing",
   "language": "python",
   "name": "wolensing"
  },
  "language_info": {
   "codemirror_mode": {
    "name": "ipython",
    "version": 3
   },
   "file_extension": ".py",
   "mimetype": "text/x-python",
   "name": "python",
   "nbconvert_exporter": "python",
   "pygments_lexer": "ipython3",
   "version": "3.6.8"
  }
 },
 "nbformat": 4,
 "nbformat_minor": 5
}
